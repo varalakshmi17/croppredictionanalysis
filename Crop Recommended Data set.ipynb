{
 "cells": [
  {
   "cell_type": "markdown",
   "id": "04d98a5e",
   "metadata": {},
   "source": [
    "<h2 style=\"color:Green\"><center><i><b>CROP PREDICTION ANALYSIS</b><i></center></h2>"
   ]
  },
  {
   "cell_type": "markdown",
   "id": "6227863c",
   "metadata": {},
   "source": [
    "![CropUrl](https://th.bing.com/th/id/OIP.I_a-T_dIA2rpg01fP79mCQHaE8?w=306&h=195&c=7&r=0&o=5&pid=1.7)"
   ]
  },
  {
   "cell_type": "markdown",
   "id": "ff0c8c29",
   "metadata": {},
   "source": [
    "__Classification__"
   ]
  },
  {
   "cell_type": "markdown",
   "id": "aa711e49",
   "metadata": {},
   "source": [
    "*The Classification algorithm is a Supervised Learning technique that is used to identify the category of new observations on the basis of training data. In Classification, a program learns from the given dataset or observations and then classifies new observation into a number of classes or groups. Such as, Yes or No, 0 or 1, Spam or Not Spam, cat or dog, etc. Classes can be called as targets/labels or categories.*"
   ]
  },
  {
   "cell_type": "markdown",
   "id": "a8eb61d2",
   "metadata": {},
   "source": [
    "__Classification model__"
   ]
  },
  {
   "cell_type": "markdown",
   "id": "ed6093a1",
   "metadata": {},
   "source": [
    "*A classification problem is when the output variable is a category, such as “red” or “blue” or “disease” and “no disease”. A classification model attempts to draw some conclusion from observed values. Given one or more inputs a classification model will try to predict the value of one or more outcomes. \n",
    "For example, when filtering emails “spam” or “not spam”, when looking at transaction data, “fraudulent”, or “authorized”. In short Classification either predicts categorical class labels or classifies data (construct a model) based on the training set and the values (class labels) in classifying attributes and uses it in classifying new data. There are a number of classification models. Classification models include logistic regression, decision tree, random forest, gradient-boosted tree, multilayer perceptron, one-vs-rest, and Naive Bayes*"
   ]
  },
  {
   "cell_type": "markdown",
   "id": "b3e97141",
   "metadata": {},
   "source": [
    "__Types of Classification Algorithms__"
   ]
  },
  {
   "cell_type": "markdown",
   "id": "d3019b2c",
   "metadata": {},
   "source": [
    "*Logistic Regression*\n",
    "\n",
    "*Support Vector Machines*\n",
    "\n",
    "*K-Nearest Neighbours*\n",
    "\n",
    "*Kernel SVM*\n",
    "\n",
    "*Naïve Bayes*\n",
    "\n",
    "*Decision Tree Classification*\n",
    "\n",
    "*Random Forest Classification*"
   ]
  },
  {
   "cell_type": "markdown",
   "id": "0d869cd1",
   "metadata": {},
   "source": [
    "__Context__"
   ]
  },
  {
   "cell_type": "markdown",
   "id": "49daddde",
   "metadata": {},
   "source": [
    "*Precision agriculture is in trend nowadays. It helps the farmers to get informed decision about the farming strategy. Here, I present you a dataset which would allow the users to build a predictive model to recommend the most suitable crops to grow in a particular farm based on various parameters.*"
   ]
  },
  {
   "cell_type": "markdown",
   "id": "e13516cd",
   "metadata": {},
   "source": [
    "__Data fields__"
   ]
  },
  {
   "cell_type": "markdown",
   "id": "fe927597",
   "metadata": {},
   "source": [
    "*N - ratio of Nitrogen content in soil*\n",
    "\n",
    "*P - ratio of Phosphorous content in soil*\n",
    "\n",
    "*K - ratio of Potassium content in soil*\n",
    "\n",
    "*temperature - temperature in degree Celsius*\n",
    "\n",
    "*humidity - relative humidity in %*\n",
    "\n",
    "*ph - ph value of the soil*\n",
    "\n",
    "*rainfall - rainfall in mm*"
   ]
  },
  {
   "cell_type": "markdown",
   "id": "ca473f4e",
   "metadata": {},
   "source": [
    "__Data Set Info__"
   ]
  },
  {
   "cell_type": "markdown",
   "id": "5294569e",
   "metadata": {},
   "source": [
    "*This Data set based on the crop yeild recommendation Data. there are total 2200 rows and 8 colcolumns in this data set. By using this dataset this data analysis and machine learning project is created*"
   ]
  },
  {
   "cell_type": "markdown",
   "id": "b55867c9",
   "metadata": {},
   "source": [
    "__Importing Libraries and Reading the Dataset & EDA (Exploratory Data Analysis)__"
   ]
  },
  {
   "cell_type": "code",
   "execution_count": 1,
   "id": "cef8511a",
   "metadata": {},
   "outputs": [],
   "source": [
    "#importing libraires\n",
    "import numpy as np\n",
    "import pandas as pd\n",
    "import matplotlib.pyplot as plt\n",
    "%matplotlib inline\n",
    "import seaborn as sns"
   ]
  },
  {
   "cell_type": "code",
   "execution_count": 2,
   "id": "77e924a7",
   "metadata": {},
   "outputs": [],
   "source": [
    "import warnings\n",
    "warnings.filterwarnings(\"ignore\")"
   ]
  },
  {
   "cell_type": "markdown",
   "id": "eb79e5a2",
   "metadata": {},
   "source": [
    "__Loding The Dataset__"
   ]
  },
  {
   "cell_type": "code",
   "execution_count": 3,
   "id": "c6b78aba",
   "metadata": {},
   "outputs": [
    {
     "data": {
      "text/html": [
       "<div>\n",
       "<style scoped>\n",
       "    .dataframe tbody tr th:only-of-type {\n",
       "        vertical-align: middle;\n",
       "    }\n",
       "\n",
       "    .dataframe tbody tr th {\n",
       "        vertical-align: top;\n",
       "    }\n",
       "\n",
       "    .dataframe thead th {\n",
       "        text-align: right;\n",
       "    }\n",
       "</style>\n",
       "<table border=\"1\" class=\"dataframe\">\n",
       "  <thead>\n",
       "    <tr style=\"text-align: right;\">\n",
       "      <th></th>\n",
       "      <th>N</th>\n",
       "      <th>P</th>\n",
       "      <th>K</th>\n",
       "      <th>temperature</th>\n",
       "      <th>humidity</th>\n",
       "      <th>ph</th>\n",
       "      <th>rainfall</th>\n",
       "      <th>label</th>\n",
       "    </tr>\n",
       "  </thead>\n",
       "  <tbody>\n",
       "    <tr>\n",
       "      <th>0</th>\n",
       "      <td>90</td>\n",
       "      <td>42</td>\n",
       "      <td>43</td>\n",
       "      <td>20.879744</td>\n",
       "      <td>82.002744</td>\n",
       "      <td>6.502985</td>\n",
       "      <td>202.935536</td>\n",
       "      <td>rice</td>\n",
       "    </tr>\n",
       "    <tr>\n",
       "      <th>1</th>\n",
       "      <td>85</td>\n",
       "      <td>58</td>\n",
       "      <td>41</td>\n",
       "      <td>21.770462</td>\n",
       "      <td>80.319644</td>\n",
       "      <td>7.038096</td>\n",
       "      <td>226.655537</td>\n",
       "      <td>rice</td>\n",
       "    </tr>\n",
       "    <tr>\n",
       "      <th>2</th>\n",
       "      <td>60</td>\n",
       "      <td>55</td>\n",
       "      <td>44</td>\n",
       "      <td>23.004459</td>\n",
       "      <td>82.320763</td>\n",
       "      <td>7.840207</td>\n",
       "      <td>263.964248</td>\n",
       "      <td>rice</td>\n",
       "    </tr>\n",
       "    <tr>\n",
       "      <th>3</th>\n",
       "      <td>74</td>\n",
       "      <td>35</td>\n",
       "      <td>40</td>\n",
       "      <td>26.491096</td>\n",
       "      <td>80.158363</td>\n",
       "      <td>6.980401</td>\n",
       "      <td>242.864034</td>\n",
       "      <td>rice</td>\n",
       "    </tr>\n",
       "    <tr>\n",
       "      <th>4</th>\n",
       "      <td>78</td>\n",
       "      <td>42</td>\n",
       "      <td>42</td>\n",
       "      <td>20.130175</td>\n",
       "      <td>81.604873</td>\n",
       "      <td>7.628473</td>\n",
       "      <td>262.717340</td>\n",
       "      <td>rice</td>\n",
       "    </tr>\n",
       "    <tr>\n",
       "      <th>...</th>\n",
       "      <td>...</td>\n",
       "      <td>...</td>\n",
       "      <td>...</td>\n",
       "      <td>...</td>\n",
       "      <td>...</td>\n",
       "      <td>...</td>\n",
       "      <td>...</td>\n",
       "      <td>...</td>\n",
       "    </tr>\n",
       "    <tr>\n",
       "      <th>2195</th>\n",
       "      <td>107</td>\n",
       "      <td>34</td>\n",
       "      <td>32</td>\n",
       "      <td>26.774637</td>\n",
       "      <td>66.413269</td>\n",
       "      <td>6.780064</td>\n",
       "      <td>177.774507</td>\n",
       "      <td>coffee</td>\n",
       "    </tr>\n",
       "    <tr>\n",
       "      <th>2196</th>\n",
       "      <td>99</td>\n",
       "      <td>15</td>\n",
       "      <td>27</td>\n",
       "      <td>27.417112</td>\n",
       "      <td>56.636362</td>\n",
       "      <td>6.086922</td>\n",
       "      <td>127.924610</td>\n",
       "      <td>coffee</td>\n",
       "    </tr>\n",
       "    <tr>\n",
       "      <th>2197</th>\n",
       "      <td>118</td>\n",
       "      <td>33</td>\n",
       "      <td>30</td>\n",
       "      <td>24.131797</td>\n",
       "      <td>67.225123</td>\n",
       "      <td>6.362608</td>\n",
       "      <td>173.322839</td>\n",
       "      <td>coffee</td>\n",
       "    </tr>\n",
       "    <tr>\n",
       "      <th>2198</th>\n",
       "      <td>117</td>\n",
       "      <td>32</td>\n",
       "      <td>34</td>\n",
       "      <td>26.272418</td>\n",
       "      <td>52.127394</td>\n",
       "      <td>6.758793</td>\n",
       "      <td>127.175293</td>\n",
       "      <td>coffee</td>\n",
       "    </tr>\n",
       "    <tr>\n",
       "      <th>2199</th>\n",
       "      <td>104</td>\n",
       "      <td>18</td>\n",
       "      <td>30</td>\n",
       "      <td>23.603016</td>\n",
       "      <td>60.396475</td>\n",
       "      <td>6.779833</td>\n",
       "      <td>140.937041</td>\n",
       "      <td>coffee</td>\n",
       "    </tr>\n",
       "  </tbody>\n",
       "</table>\n",
       "<p>2200 rows × 8 columns</p>\n",
       "</div>"
      ],
      "text/plain": [
       "        N   P   K  temperature   humidity        ph    rainfall   label\n",
       "0      90  42  43    20.879744  82.002744  6.502985  202.935536    rice\n",
       "1      85  58  41    21.770462  80.319644  7.038096  226.655537    rice\n",
       "2      60  55  44    23.004459  82.320763  7.840207  263.964248    rice\n",
       "3      74  35  40    26.491096  80.158363  6.980401  242.864034    rice\n",
       "4      78  42  42    20.130175  81.604873  7.628473  262.717340    rice\n",
       "...   ...  ..  ..          ...        ...       ...         ...     ...\n",
       "2195  107  34  32    26.774637  66.413269  6.780064  177.774507  coffee\n",
       "2196   99  15  27    27.417112  56.636362  6.086922  127.924610  coffee\n",
       "2197  118  33  30    24.131797  67.225123  6.362608  173.322839  coffee\n",
       "2198  117  32  34    26.272418  52.127394  6.758793  127.175293  coffee\n",
       "2199  104  18  30    23.603016  60.396475  6.779833  140.937041  coffee\n",
       "\n",
       "[2200 rows x 8 columns]"
      ]
     },
     "execution_count": 3,
     "metadata": {},
     "output_type": "execute_result"
    }
   ],
   "source": [
    "df = pd.read_csv(\"C:\\DataSets\\Crop_recommendation.csv\")\n",
    "df"
   ]
  },
  {
   "cell_type": "code",
   "execution_count": 4,
   "id": "03603680",
   "metadata": {},
   "outputs": [
    {
     "data": {
      "text/html": [
       "<div>\n",
       "<style scoped>\n",
       "    .dataframe tbody tr th:only-of-type {\n",
       "        vertical-align: middle;\n",
       "    }\n",
       "\n",
       "    .dataframe tbody tr th {\n",
       "        vertical-align: top;\n",
       "    }\n",
       "\n",
       "    .dataframe thead th {\n",
       "        text-align: right;\n",
       "    }\n",
       "</style>\n",
       "<table border=\"1\" class=\"dataframe\">\n",
       "  <thead>\n",
       "    <tr style=\"text-align: right;\">\n",
       "      <th></th>\n",
       "      <th>N</th>\n",
       "      <th>P</th>\n",
       "      <th>K</th>\n",
       "      <th>temperature</th>\n",
       "      <th>humidity</th>\n",
       "      <th>ph</th>\n",
       "      <th>rainfall</th>\n",
       "      <th>label</th>\n",
       "    </tr>\n",
       "  </thead>\n",
       "  <tbody>\n",
       "    <tr>\n",
       "      <th>0</th>\n",
       "      <td>90</td>\n",
       "      <td>42</td>\n",
       "      <td>43</td>\n",
       "      <td>20.879744</td>\n",
       "      <td>82.002744</td>\n",
       "      <td>6.502985</td>\n",
       "      <td>202.935536</td>\n",
       "      <td>rice</td>\n",
       "    </tr>\n",
       "    <tr>\n",
       "      <th>1</th>\n",
       "      <td>85</td>\n",
       "      <td>58</td>\n",
       "      <td>41</td>\n",
       "      <td>21.770462</td>\n",
       "      <td>80.319644</td>\n",
       "      <td>7.038096</td>\n",
       "      <td>226.655537</td>\n",
       "      <td>rice</td>\n",
       "    </tr>\n",
       "    <tr>\n",
       "      <th>2</th>\n",
       "      <td>60</td>\n",
       "      <td>55</td>\n",
       "      <td>44</td>\n",
       "      <td>23.004459</td>\n",
       "      <td>82.320763</td>\n",
       "      <td>7.840207</td>\n",
       "      <td>263.964248</td>\n",
       "      <td>rice</td>\n",
       "    </tr>\n",
       "    <tr>\n",
       "      <th>3</th>\n",
       "      <td>74</td>\n",
       "      <td>35</td>\n",
       "      <td>40</td>\n",
       "      <td>26.491096</td>\n",
       "      <td>80.158363</td>\n",
       "      <td>6.980401</td>\n",
       "      <td>242.864034</td>\n",
       "      <td>rice</td>\n",
       "    </tr>\n",
       "    <tr>\n",
       "      <th>4</th>\n",
       "      <td>78</td>\n",
       "      <td>42</td>\n",
       "      <td>42</td>\n",
       "      <td>20.130175</td>\n",
       "      <td>81.604873</td>\n",
       "      <td>7.628473</td>\n",
       "      <td>262.717340</td>\n",
       "      <td>rice</td>\n",
       "    </tr>\n",
       "  </tbody>\n",
       "</table>\n",
       "</div>"
      ],
      "text/plain": [
       "    N   P   K  temperature   humidity        ph    rainfall label\n",
       "0  90  42  43    20.879744  82.002744  6.502985  202.935536  rice\n",
       "1  85  58  41    21.770462  80.319644  7.038096  226.655537  rice\n",
       "2  60  55  44    23.004459  82.320763  7.840207  263.964248  rice\n",
       "3  74  35  40    26.491096  80.158363  6.980401  242.864034  rice\n",
       "4  78  42  42    20.130175  81.604873  7.628473  262.717340  rice"
      ]
     },
     "execution_count": 4,
     "metadata": {},
     "output_type": "execute_result"
    }
   ],
   "source": [
    "df.head()"
   ]
  },
  {
   "cell_type": "code",
   "execution_count": 5,
   "id": "f919d57b",
   "metadata": {
    "scrolled": true
   },
   "outputs": [
    {
     "data": {
      "text/html": [
       "<div>\n",
       "<style scoped>\n",
       "    .dataframe tbody tr th:only-of-type {\n",
       "        vertical-align: middle;\n",
       "    }\n",
       "\n",
       "    .dataframe tbody tr th {\n",
       "        vertical-align: top;\n",
       "    }\n",
       "\n",
       "    .dataframe thead th {\n",
       "        text-align: right;\n",
       "    }\n",
       "</style>\n",
       "<table border=\"1\" class=\"dataframe\">\n",
       "  <thead>\n",
       "    <tr style=\"text-align: right;\">\n",
       "      <th></th>\n",
       "      <th>N</th>\n",
       "      <th>P</th>\n",
       "      <th>K</th>\n",
       "      <th>temperature</th>\n",
       "      <th>humidity</th>\n",
       "      <th>ph</th>\n",
       "      <th>rainfall</th>\n",
       "      <th>label</th>\n",
       "    </tr>\n",
       "  </thead>\n",
       "  <tbody>\n",
       "    <tr>\n",
       "      <th>2195</th>\n",
       "      <td>107</td>\n",
       "      <td>34</td>\n",
       "      <td>32</td>\n",
       "      <td>26.774637</td>\n",
       "      <td>66.413269</td>\n",
       "      <td>6.780064</td>\n",
       "      <td>177.774507</td>\n",
       "      <td>coffee</td>\n",
       "    </tr>\n",
       "    <tr>\n",
       "      <th>2196</th>\n",
       "      <td>99</td>\n",
       "      <td>15</td>\n",
       "      <td>27</td>\n",
       "      <td>27.417112</td>\n",
       "      <td>56.636362</td>\n",
       "      <td>6.086922</td>\n",
       "      <td>127.924610</td>\n",
       "      <td>coffee</td>\n",
       "    </tr>\n",
       "    <tr>\n",
       "      <th>2197</th>\n",
       "      <td>118</td>\n",
       "      <td>33</td>\n",
       "      <td>30</td>\n",
       "      <td>24.131797</td>\n",
       "      <td>67.225123</td>\n",
       "      <td>6.362608</td>\n",
       "      <td>173.322839</td>\n",
       "      <td>coffee</td>\n",
       "    </tr>\n",
       "    <tr>\n",
       "      <th>2198</th>\n",
       "      <td>117</td>\n",
       "      <td>32</td>\n",
       "      <td>34</td>\n",
       "      <td>26.272418</td>\n",
       "      <td>52.127394</td>\n",
       "      <td>6.758793</td>\n",
       "      <td>127.175293</td>\n",
       "      <td>coffee</td>\n",
       "    </tr>\n",
       "    <tr>\n",
       "      <th>2199</th>\n",
       "      <td>104</td>\n",
       "      <td>18</td>\n",
       "      <td>30</td>\n",
       "      <td>23.603016</td>\n",
       "      <td>60.396475</td>\n",
       "      <td>6.779833</td>\n",
       "      <td>140.937041</td>\n",
       "      <td>coffee</td>\n",
       "    </tr>\n",
       "  </tbody>\n",
       "</table>\n",
       "</div>"
      ],
      "text/plain": [
       "        N   P   K  temperature   humidity        ph    rainfall   label\n",
       "2195  107  34  32    26.774637  66.413269  6.780064  177.774507  coffee\n",
       "2196   99  15  27    27.417112  56.636362  6.086922  127.924610  coffee\n",
       "2197  118  33  30    24.131797  67.225123  6.362608  173.322839  coffee\n",
       "2198  117  32  34    26.272418  52.127394  6.758793  127.175293  coffee\n",
       "2199  104  18  30    23.603016  60.396475  6.779833  140.937041  coffee"
      ]
     },
     "execution_count": 5,
     "metadata": {},
     "output_type": "execute_result"
    }
   ],
   "source": [
    "df.tail()"
   ]
  },
  {
   "cell_type": "code",
   "execution_count": 6,
   "id": "e83a99ca",
   "metadata": {},
   "outputs": [
    {
     "data": {
      "text/plain": [
       "rice           100\n",
       "maize          100\n",
       "jute           100\n",
       "cotton         100\n",
       "coconut        100\n",
       "papaya         100\n",
       "orange         100\n",
       "apple          100\n",
       "muskmelon      100\n",
       "watermelon     100\n",
       "grapes         100\n",
       "mango          100\n",
       "banana         100\n",
       "pomegranate    100\n",
       "lentil         100\n",
       "blackgram      100\n",
       "mungbean       100\n",
       "mothbeans      100\n",
       "pigeonpeas     100\n",
       "kidneybeans    100\n",
       "chickpea       100\n",
       "coffee         100\n",
       "Name: label, dtype: int64"
      ]
     },
     "execution_count": 6,
     "metadata": {},
     "output_type": "execute_result"
    }
   ],
   "source": [
    "df[\"label\"].value_counts()"
   ]
  },
  {
   "cell_type": "code",
   "execution_count": 7,
   "id": "66097ef3",
   "metadata": {
    "scrolled": true
   },
   "outputs": [
    {
     "data": {
      "text/plain": [
       "(2200, 8)"
      ]
     },
     "execution_count": 7,
     "metadata": {},
     "output_type": "execute_result"
    }
   ],
   "source": [
    "df.shape"
   ]
  },
  {
   "cell_type": "markdown",
   "id": "3b19e4e6",
   "metadata": {},
   "source": [
    "__unique Values__"
   ]
  },
  {
   "cell_type": "code",
   "execution_count": 8,
   "id": "469948cf",
   "metadata": {},
   "outputs": [],
   "source": [
    "df['label'] = df['label'].replace(\"apple\",0)\n",
    "df['label'] = df['label'].replace(\"banana\",1)\n",
    "df['label'] = df['label'].replace(\"blackgram\",2)\n",
    "df['label'] = df['label'].replace(\"chickpea\",3)\n",
    "df['label'] = df['label'].replace(\"coconut\",4)\n",
    "df['label'] = df['label'].replace(\"coffee\",5)\n",
    "df['label'] = df['label'].replace(\"cotton\",6)\n",
    "df['label'] = df['label'].replace(\"grapes\",7)\n",
    "df['label'] = df['label'].replace(\"jute\",8)\n",
    "df['label'] = df['label'].replace(\"kidneybeans\",9)\n",
    "df['label'] = df['label'].replace(\"lentil\",10)\n",
    "df['label'] = df['label'].replace(\"maize\",11)\n",
    "df['label'] = df['label'].replace(\"mango\",12)\n",
    "df['label'] = df['label'].replace(\"mothbeans\",13)\n",
    "df['label'] = df['label'].replace(\"mungbean\",14)\n",
    "df['label'] = df['label'].replace(\"muskmelon\",15)\n",
    "df['label'] = df['label'].replace(\"orange\",16)\n",
    "df['label'] = df['label'].replace(\"papaya\",17)\n",
    "df['label'] = df['label'].replace(\"pigeonpeas\",18)\n",
    "df['label'] = df['label'].replace(\"pomegranate\",19)\n",
    "df['label'] = df['label'].replace(\"rice\",20)\n",
    "df['label'] = df['label'].replace(\"watermelon\",21)"
   ]
  },
  {
   "cell_type": "code",
   "execution_count": 9,
   "id": "d01c9d28",
   "metadata": {},
   "outputs": [
    {
     "name": "stdout",
     "output_type": "stream",
     "text": [
      "<class 'pandas.core.frame.DataFrame'>\n",
      "RangeIndex: 2200 entries, 0 to 2199\n",
      "Data columns (total 8 columns):\n",
      " #   Column       Non-Null Count  Dtype  \n",
      "---  ------       --------------  -----  \n",
      " 0   N            2200 non-null   int64  \n",
      " 1   P            2200 non-null   int64  \n",
      " 2   K            2200 non-null   int64  \n",
      " 3   temperature  2200 non-null   float64\n",
      " 4   humidity     2200 non-null   float64\n",
      " 5   ph           2200 non-null   float64\n",
      " 6   rainfall     2200 non-null   float64\n",
      " 7   label        2200 non-null   int64  \n",
      "dtypes: float64(4), int64(4)\n",
      "memory usage: 137.6 KB\n"
     ]
    }
   ],
   "source": [
    "df.info()"
   ]
  },
  {
   "cell_type": "code",
   "execution_count": 10,
   "id": "9a154a08",
   "metadata": {},
   "outputs": [
    {
     "data": {
      "text/html": [
       "<style type=\"text/css\">\n",
       "#T_89fea_row0_col0, #T_89fea_row0_col1, #T_89fea_row0_col2, #T_89fea_row0_col3, #T_89fea_row0_col4, #T_89fea_row0_col5, #T_89fea_row0_col6, #T_89fea_row0_col7, #T_89fea_row1_col0, #T_89fea_row1_col1, #T_89fea_row1_col2, #T_89fea_row1_col3, #T_89fea_row1_col4, #T_89fea_row1_col5, #T_89fea_row1_col6, #T_89fea_row1_col7, #T_89fea_row2_col0, #T_89fea_row2_col1, #T_89fea_row2_col2, #T_89fea_row2_col3, #T_89fea_row2_col4, #T_89fea_row2_col5, #T_89fea_row2_col6, #T_89fea_row2_col7, #T_89fea_row3_col0, #T_89fea_row3_col1, #T_89fea_row3_col2, #T_89fea_row3_col3, #T_89fea_row3_col4, #T_89fea_row3_col5, #T_89fea_row3_col6, #T_89fea_row3_col7, #T_89fea_row4_col0, #T_89fea_row4_col1, #T_89fea_row4_col2, #T_89fea_row4_col3, #T_89fea_row4_col4, #T_89fea_row4_col5, #T_89fea_row4_col6, #T_89fea_row4_col7, #T_89fea_row5_col0, #T_89fea_row5_col1, #T_89fea_row5_col2, #T_89fea_row5_col3, #T_89fea_row5_col4, #T_89fea_row5_col5, #T_89fea_row5_col6, #T_89fea_row5_col7, #T_89fea_row6_col0, #T_89fea_row6_col1, #T_89fea_row6_col2, #T_89fea_row6_col3, #T_89fea_row6_col4, #T_89fea_row6_col5, #T_89fea_row6_col6, #T_89fea_row6_col7, #T_89fea_row7_col0, #T_89fea_row7_col1, #T_89fea_row7_col2, #T_89fea_row7_col3, #T_89fea_row7_col4, #T_89fea_row7_col5, #T_89fea_row7_col6, #T_89fea_row7_col7 {\n",
       "  background_color: pink;\n",
       "  color: black;\n",
       "  border_color: black;\n",
       "}\n",
       "</style>\n",
       "<table id=\"T_89fea\">\n",
       "  <thead>\n",
       "    <tr>\n",
       "      <th class=\"blank level0\" >&nbsp;</th>\n",
       "      <th id=\"T_89fea_level0_col0\" class=\"col_heading level0 col0\" >count</th>\n",
       "      <th id=\"T_89fea_level0_col1\" class=\"col_heading level0 col1\" >mean</th>\n",
       "      <th id=\"T_89fea_level0_col2\" class=\"col_heading level0 col2\" >std</th>\n",
       "      <th id=\"T_89fea_level0_col3\" class=\"col_heading level0 col3\" >min</th>\n",
       "      <th id=\"T_89fea_level0_col4\" class=\"col_heading level0 col4\" >25%</th>\n",
       "      <th id=\"T_89fea_level0_col5\" class=\"col_heading level0 col5\" >50%</th>\n",
       "      <th id=\"T_89fea_level0_col6\" class=\"col_heading level0 col6\" >75%</th>\n",
       "      <th id=\"T_89fea_level0_col7\" class=\"col_heading level0 col7\" >max</th>\n",
       "    </tr>\n",
       "  </thead>\n",
       "  <tbody>\n",
       "    <tr>\n",
       "      <th id=\"T_89fea_level0_row0\" class=\"row_heading level0 row0\" >N</th>\n",
       "      <td id=\"T_89fea_row0_col0\" class=\"data row0 col0\" >2200.000000</td>\n",
       "      <td id=\"T_89fea_row0_col1\" class=\"data row0 col1\" >50.551818</td>\n",
       "      <td id=\"T_89fea_row0_col2\" class=\"data row0 col2\" >36.917334</td>\n",
       "      <td id=\"T_89fea_row0_col3\" class=\"data row0 col3\" >0.000000</td>\n",
       "      <td id=\"T_89fea_row0_col4\" class=\"data row0 col4\" >21.000000</td>\n",
       "      <td id=\"T_89fea_row0_col5\" class=\"data row0 col5\" >37.000000</td>\n",
       "      <td id=\"T_89fea_row0_col6\" class=\"data row0 col6\" >84.250000</td>\n",
       "      <td id=\"T_89fea_row0_col7\" class=\"data row0 col7\" >140.000000</td>\n",
       "    </tr>\n",
       "    <tr>\n",
       "      <th id=\"T_89fea_level0_row1\" class=\"row_heading level0 row1\" >P</th>\n",
       "      <td id=\"T_89fea_row1_col0\" class=\"data row1 col0\" >2200.000000</td>\n",
       "      <td id=\"T_89fea_row1_col1\" class=\"data row1 col1\" >53.362727</td>\n",
       "      <td id=\"T_89fea_row1_col2\" class=\"data row1 col2\" >32.985883</td>\n",
       "      <td id=\"T_89fea_row1_col3\" class=\"data row1 col3\" >5.000000</td>\n",
       "      <td id=\"T_89fea_row1_col4\" class=\"data row1 col4\" >28.000000</td>\n",
       "      <td id=\"T_89fea_row1_col5\" class=\"data row1 col5\" >51.000000</td>\n",
       "      <td id=\"T_89fea_row1_col6\" class=\"data row1 col6\" >68.000000</td>\n",
       "      <td id=\"T_89fea_row1_col7\" class=\"data row1 col7\" >145.000000</td>\n",
       "    </tr>\n",
       "    <tr>\n",
       "      <th id=\"T_89fea_level0_row2\" class=\"row_heading level0 row2\" >K</th>\n",
       "      <td id=\"T_89fea_row2_col0\" class=\"data row2 col0\" >2200.000000</td>\n",
       "      <td id=\"T_89fea_row2_col1\" class=\"data row2 col1\" >48.149091</td>\n",
       "      <td id=\"T_89fea_row2_col2\" class=\"data row2 col2\" >50.647931</td>\n",
       "      <td id=\"T_89fea_row2_col3\" class=\"data row2 col3\" >5.000000</td>\n",
       "      <td id=\"T_89fea_row2_col4\" class=\"data row2 col4\" >20.000000</td>\n",
       "      <td id=\"T_89fea_row2_col5\" class=\"data row2 col5\" >32.000000</td>\n",
       "      <td id=\"T_89fea_row2_col6\" class=\"data row2 col6\" >49.000000</td>\n",
       "      <td id=\"T_89fea_row2_col7\" class=\"data row2 col7\" >205.000000</td>\n",
       "    </tr>\n",
       "    <tr>\n",
       "      <th id=\"T_89fea_level0_row3\" class=\"row_heading level0 row3\" >temperature</th>\n",
       "      <td id=\"T_89fea_row3_col0\" class=\"data row3 col0\" >2200.000000</td>\n",
       "      <td id=\"T_89fea_row3_col1\" class=\"data row3 col1\" >25.616244</td>\n",
       "      <td id=\"T_89fea_row3_col2\" class=\"data row3 col2\" >5.063749</td>\n",
       "      <td id=\"T_89fea_row3_col3\" class=\"data row3 col3\" >8.825675</td>\n",
       "      <td id=\"T_89fea_row3_col4\" class=\"data row3 col4\" >22.769375</td>\n",
       "      <td id=\"T_89fea_row3_col5\" class=\"data row3 col5\" >25.598693</td>\n",
       "      <td id=\"T_89fea_row3_col6\" class=\"data row3 col6\" >28.561654</td>\n",
       "      <td id=\"T_89fea_row3_col7\" class=\"data row3 col7\" >43.675493</td>\n",
       "    </tr>\n",
       "    <tr>\n",
       "      <th id=\"T_89fea_level0_row4\" class=\"row_heading level0 row4\" >humidity</th>\n",
       "      <td id=\"T_89fea_row4_col0\" class=\"data row4 col0\" >2200.000000</td>\n",
       "      <td id=\"T_89fea_row4_col1\" class=\"data row4 col1\" >71.481779</td>\n",
       "      <td id=\"T_89fea_row4_col2\" class=\"data row4 col2\" >22.263812</td>\n",
       "      <td id=\"T_89fea_row4_col3\" class=\"data row4 col3\" >14.258040</td>\n",
       "      <td id=\"T_89fea_row4_col4\" class=\"data row4 col4\" >60.261953</td>\n",
       "      <td id=\"T_89fea_row4_col5\" class=\"data row4 col5\" >80.473146</td>\n",
       "      <td id=\"T_89fea_row4_col6\" class=\"data row4 col6\" >89.948771</td>\n",
       "      <td id=\"T_89fea_row4_col7\" class=\"data row4 col7\" >99.981876</td>\n",
       "    </tr>\n",
       "    <tr>\n",
       "      <th id=\"T_89fea_level0_row5\" class=\"row_heading level0 row5\" >ph</th>\n",
       "      <td id=\"T_89fea_row5_col0\" class=\"data row5 col0\" >2200.000000</td>\n",
       "      <td id=\"T_89fea_row5_col1\" class=\"data row5 col1\" >6.469480</td>\n",
       "      <td id=\"T_89fea_row5_col2\" class=\"data row5 col2\" >0.773938</td>\n",
       "      <td id=\"T_89fea_row5_col3\" class=\"data row5 col3\" >3.504752</td>\n",
       "      <td id=\"T_89fea_row5_col4\" class=\"data row5 col4\" >5.971693</td>\n",
       "      <td id=\"T_89fea_row5_col5\" class=\"data row5 col5\" >6.425045</td>\n",
       "      <td id=\"T_89fea_row5_col6\" class=\"data row5 col6\" >6.923643</td>\n",
       "      <td id=\"T_89fea_row5_col7\" class=\"data row5 col7\" >9.935091</td>\n",
       "    </tr>\n",
       "    <tr>\n",
       "      <th id=\"T_89fea_level0_row6\" class=\"row_heading level0 row6\" >rainfall</th>\n",
       "      <td id=\"T_89fea_row6_col0\" class=\"data row6 col0\" >2200.000000</td>\n",
       "      <td id=\"T_89fea_row6_col1\" class=\"data row6 col1\" >103.463655</td>\n",
       "      <td id=\"T_89fea_row6_col2\" class=\"data row6 col2\" >54.958389</td>\n",
       "      <td id=\"T_89fea_row6_col3\" class=\"data row6 col3\" >20.211267</td>\n",
       "      <td id=\"T_89fea_row6_col4\" class=\"data row6 col4\" >64.551686</td>\n",
       "      <td id=\"T_89fea_row6_col5\" class=\"data row6 col5\" >94.867624</td>\n",
       "      <td id=\"T_89fea_row6_col6\" class=\"data row6 col6\" >124.267508</td>\n",
       "      <td id=\"T_89fea_row6_col7\" class=\"data row6 col7\" >298.560117</td>\n",
       "    </tr>\n",
       "    <tr>\n",
       "      <th id=\"T_89fea_level0_row7\" class=\"row_heading level0 row7\" >label</th>\n",
       "      <td id=\"T_89fea_row7_col0\" class=\"data row7 col0\" >2200.000000</td>\n",
       "      <td id=\"T_89fea_row7_col1\" class=\"data row7 col1\" >10.500000</td>\n",
       "      <td id=\"T_89fea_row7_col2\" class=\"data row7 col2\" >6.345731</td>\n",
       "      <td id=\"T_89fea_row7_col3\" class=\"data row7 col3\" >0.000000</td>\n",
       "      <td id=\"T_89fea_row7_col4\" class=\"data row7 col4\" >5.000000</td>\n",
       "      <td id=\"T_89fea_row7_col5\" class=\"data row7 col5\" >10.500000</td>\n",
       "      <td id=\"T_89fea_row7_col6\" class=\"data row7 col6\" >16.000000</td>\n",
       "      <td id=\"T_89fea_row7_col7\" class=\"data row7 col7\" >21.000000</td>\n",
       "    </tr>\n",
       "  </tbody>\n",
       "</table>\n"
      ],
      "text/plain": [
       "<pandas.io.formats.style.Styler at 0x174e8076e80>"
      ]
     },
     "execution_count": 10,
     "metadata": {},
     "output_type": "execute_result"
    }
   ],
   "source": [
    "df.describe().T.style.set_properties(**{\"background_color\":\"pink\",\"color\":\"black\",\"border_color\":\"black\"})"
   ]
  },
  {
   "cell_type": "code",
   "execution_count": 11,
   "id": "2dea8c22",
   "metadata": {},
   "outputs": [],
   "source": [
    "df.rename(columns = {\"N\":\"Nitrogen\",\"P\":\"Phosphorus\",\"K\":\"Potassium\",\"temperature\":\"Temperature\",\"humidity\":\"Humidity\",\"ph\":\"PH\",\"rainfall\":\"Rainfall\",\"label\":\"Label\"},inplace=True)"
   ]
  },
  {
   "cell_type": "code",
   "execution_count": 12,
   "id": "991a2900",
   "metadata": {},
   "outputs": [
    {
     "data": {
      "text/html": [
       "<div>\n",
       "<style scoped>\n",
       "    .dataframe tbody tr th:only-of-type {\n",
       "        vertical-align: middle;\n",
       "    }\n",
       "\n",
       "    .dataframe tbody tr th {\n",
       "        vertical-align: top;\n",
       "    }\n",
       "\n",
       "    .dataframe thead th {\n",
       "        text-align: right;\n",
       "    }\n",
       "</style>\n",
       "<table border=\"1\" class=\"dataframe\">\n",
       "  <thead>\n",
       "    <tr style=\"text-align: right;\">\n",
       "      <th></th>\n",
       "      <th>Nitrogen</th>\n",
       "      <th>Phosphorus</th>\n",
       "      <th>Potassium</th>\n",
       "      <th>Temperature</th>\n",
       "      <th>Humidity</th>\n",
       "      <th>PH</th>\n",
       "      <th>Rainfall</th>\n",
       "      <th>Label</th>\n",
       "    </tr>\n",
       "  </thead>\n",
       "  <tbody>\n",
       "    <tr>\n",
       "      <th>0</th>\n",
       "      <td>90</td>\n",
       "      <td>42</td>\n",
       "      <td>43</td>\n",
       "      <td>20.879744</td>\n",
       "      <td>82.002744</td>\n",
       "      <td>6.502985</td>\n",
       "      <td>202.935536</td>\n",
       "      <td>20</td>\n",
       "    </tr>\n",
       "    <tr>\n",
       "      <th>1</th>\n",
       "      <td>85</td>\n",
       "      <td>58</td>\n",
       "      <td>41</td>\n",
       "      <td>21.770462</td>\n",
       "      <td>80.319644</td>\n",
       "      <td>7.038096</td>\n",
       "      <td>226.655537</td>\n",
       "      <td>20</td>\n",
       "    </tr>\n",
       "    <tr>\n",
       "      <th>2</th>\n",
       "      <td>60</td>\n",
       "      <td>55</td>\n",
       "      <td>44</td>\n",
       "      <td>23.004459</td>\n",
       "      <td>82.320763</td>\n",
       "      <td>7.840207</td>\n",
       "      <td>263.964248</td>\n",
       "      <td>20</td>\n",
       "    </tr>\n",
       "    <tr>\n",
       "      <th>3</th>\n",
       "      <td>74</td>\n",
       "      <td>35</td>\n",
       "      <td>40</td>\n",
       "      <td>26.491096</td>\n",
       "      <td>80.158363</td>\n",
       "      <td>6.980401</td>\n",
       "      <td>242.864034</td>\n",
       "      <td>20</td>\n",
       "    </tr>\n",
       "    <tr>\n",
       "      <th>4</th>\n",
       "      <td>78</td>\n",
       "      <td>42</td>\n",
       "      <td>42</td>\n",
       "      <td>20.130175</td>\n",
       "      <td>81.604873</td>\n",
       "      <td>7.628473</td>\n",
       "      <td>262.717340</td>\n",
       "      <td>20</td>\n",
       "    </tr>\n",
       "  </tbody>\n",
       "</table>\n",
       "</div>"
      ],
      "text/plain": [
       "   Nitrogen  Phosphorus  Potassium  Temperature   Humidity        PH  \\\n",
       "0        90          42         43    20.879744  82.002744  6.502985   \n",
       "1        85          58         41    21.770462  80.319644  7.038096   \n",
       "2        60          55         44    23.004459  82.320763  7.840207   \n",
       "3        74          35         40    26.491096  80.158363  6.980401   \n",
       "4        78          42         42    20.130175  81.604873  7.628473   \n",
       "\n",
       "     Rainfall  Label  \n",
       "0  202.935536     20  \n",
       "1  226.655537     20  \n",
       "2  263.964248     20  \n",
       "3  242.864034     20  \n",
       "4  262.717340     20  "
      ]
     },
     "execution_count": 12,
     "metadata": {},
     "output_type": "execute_result"
    }
   ],
   "source": [
    "df.head()"
   ]
  },
  {
   "cell_type": "markdown",
   "id": "9420cd7f",
   "metadata": {},
   "source": [
    "__Understanding The data__"
   ]
  },
  {
   "cell_type": "markdown",
   "id": "649e458c",
   "metadata": {},
   "source": [
    "__Nitrogen__"
   ]
  },
  {
   "cell_type": "markdown",
   "id": "9b536478",
   "metadata": {},
   "source": [
    "*Nitrogen is primarily responsible for vegetative growth. Nitrogen assimilation into amino acids is the building block for protein in the plant. It is a component of chlorophyll and is required for several enzyme reactions.*"
   ]
  },
  {
   "cell_type": "markdown",
   "id": "f16275d8",
   "metadata": {},
   "source": [
    "__Phosphorus__"
   ]
  },
  {
   "cell_type": "markdown",
   "id": "5a1919e7",
   "metadata": {},
   "source": [
    "*Phosphorus is a major component in plant DNA and RNA. Phosphorus is also critical in root development, crop maturity and seed production.*"
   ]
  },
  {
   "cell_type": "markdown",
   "id": "42914f60",
   "metadata": {},
   "source": [
    "__Potassium__"
   ]
  },
  {
   "cell_type": "markdown",
   "id": "f9463ab1",
   "metadata": {},
   "source": [
    "*The role of potassium in the plant is indirect, meaning that it does not make up any plant part. Potassium is required for the activation of over 80 enzymes throughout the plant. It's important for a plant's ability to withstand extreme cold and hot temperatures, drought and pests. Potassium increases water use efficiency and transforms sugars to starch in the grain-filling process.*"
   ]
  },
  {
   "cell_type": "markdown",
   "id": "d07fe1ba",
   "metadata": {},
   "source": [
    "__Temperature__"
   ]
  },
  {
   "cell_type": "markdown",
   "id": "774e6239",
   "metadata": {},
   "source": [
    "*Temperature influences most plant processes, including photosynthesis, transpiration, respiration, germination and flowering. As temperature increases (up to a point), photosynthesis, transpiration and respiration increase. When combined with day length, temperature also affects the change from vegetative (leafy) to reproductive (flowering) growth. Depending on the situation and the specific plant, the effect of temperature can either speed up or slow down this transition.*"
   ]
  },
  {
   "cell_type": "markdown",
   "id": "7ea3df94",
   "metadata": {},
   "source": [
    "__Role of Humidity in Plant Growth__"
   ]
  },
  {
   "cell_type": "markdown",
   "id": "21d8a720",
   "metadata": {},
   "source": [
    "*Plants are always adjusting their leaf stomatal openings based on the VPD and the humidity in the air. As seen above, high humidity is a problem because water usage by the plant is too slow and compromises quality, even though the stomates are constantly open. Likewise, if humidity is very low and subsequent transpiration is too high, the plant closes its stomatal openings to minimize water loss and wilting. Unfortunately, this also means photosynthesis is slowed and subsequently, so is plant growth.*"
   ]
  },
  {
   "cell_type": "markdown",
   "id": "eb1c87f9",
   "metadata": {},
   "source": [
    "*As alluded to above, the two major functions of the plant that tie in closely with the humidity in the air and affect crop performance are transpiration and photosynthesis.*"
   ]
  },
  {
   "cell_type": "markdown",
   "id": "c71c0c2a",
   "metadata": {},
   "source": [
    "__Importance of Soil pH__"
   ]
  },
  {
   "cell_type": "markdown",
   "id": "918b7124",
   "metadata": {},
   "source": [
    "*Garden soils are often described as acidic (sour) or alkaline (sweet). Unfortunately, the meanings of these terms and their relationship to plant growth are not clearly understood by some gardeners. The relative acidity or alkalinity of soil is indicated by its pH. The pH scale runs from 0 to 14. Any pH reading below 7 is acidic and any pH above 7 is alkaline. A pH of 7 indicates a neutral soil. The pH is important because it influences the availability of essential nutrients. Most horticultural crops will grow satisfactorily in soils having a pH between 6 (slightly acid) and 7.5 (slightly alkaline). Since most garden soils in Iowa are in this range, most gardeners experience few problems with soil pH.*"
   ]
  },
  {
   "cell_type": "markdown",
   "id": "a6322db8",
   "metadata": {},
   "source": [
    "*There are a few plants that require a soil pH of 4.5 to 5.5. These \"acid-loving\" plants include azaleas, rhododendrons, and blueberries. The soil pH for these plants can be lowered by incorporating elemental sulfur (S) into the soil. Since the soil acidifying response to elemental sulfur is slow, it should be applied and incorporated a year before planting. Working Canadian sphagnum peat into the soil is another method to lower pH.*"
   ]
  },
  {
   "cell_type": "markdown",
   "id": "a66120eb",
   "metadata": {},
   "source": [
    "*For most plants, however, a soil pH below 6.0 is undesirable. Strongly acid soils need to be limed to raise the pH to near neutral levels. Liming materials include ground limestone which is mainly calcium carbonate (CaCO3) and dolomitic limestone which contains CaCO3 and some magnesium carbonate (MgCO3). Since most Iowa soils do not need to be limed, apply liming materials only when recommended by a soil test.*"
   ]
  },
  {
   "cell_type": "markdown",
   "id": "03695f51",
   "metadata": {},
   "source": [
    "*A highly visible example of the role of soil pH in the availability of nutrients can often be seen in pin oaks. Many pin oaks in the Midwest suffer from iron chlorosis which is characterized by yellowish green foliage. The yellowing of the leaves is caused by a deficiency of iron within the plant. Most Iowa soils contain sufficient quantities of iron for good plant growth and leaf coloration. Unfortunately, much of the iron is in an insoluble form and is unavailable to pin oaks when the soil pH is above 7.0. Iron is readily available to pin oaks at a pH range of 5 to 6.5. Since efforts to correct iron chlorosis are extremely difficult, gardeners should avoid planting pin oaks in alkaline soils.*"
   ]
  },
  {
   "cell_type": "markdown",
   "id": "13a2b62c",
   "metadata": {},
   "source": [
    "__Effects of Rain Water on Plants__"
   ]
  },
  {
   "cell_type": "markdown",
   "id": "689a9acc",
   "metadata": {},
   "source": [
    "*All water contains minerals, but the types and concentrations may vary with the source. Some minerals, which are also referred to as essential nutrients, are necessary for healthy plant growth and for the production of flowers and fruits.*"
   ]
  },
  {
   "cell_type": "markdown",
   "id": "2d629561",
   "metadata": {},
   "source": [
    "*Rainwater that falls to the ground usually filters slowly into the soil, where it will absorb ionized forms of essential plant nutrients like calcium and magnesium. Plants take up these minerals with water that is pulled up through roots, and these essential nutrients are distributed throughout the stems and leaves of plants through vascular tissue.*"
   ]
  },
  {
   "cell_type": "markdown",
   "id": "63dca39c",
   "metadata": {},
   "source": [
    "__Data Information__"
   ]
  },
  {
   "cell_type": "markdown",
   "id": "dc6e2478",
   "metadata": {},
   "source": [
    "__Let's Look into Feature \"Labele\"__"
   ]
  },
  {
   "cell_type": "code",
   "execution_count": 13,
   "id": "ff0683ad",
   "metadata": {
    "scrolled": true
   },
   "outputs": [
    {
     "data": {
      "text/plain": [
       "20    100\n",
       "11    100\n",
       "8     100\n",
       "6     100\n",
       "4     100\n",
       "17    100\n",
       "16    100\n",
       "0     100\n",
       "15    100\n",
       "21    100\n",
       "7     100\n",
       "12    100\n",
       "1     100\n",
       "19    100\n",
       "10    100\n",
       "2     100\n",
       "14    100\n",
       "13    100\n",
       "18    100\n",
       "9     100\n",
       "3     100\n",
       "5     100\n",
       "Name: Label, dtype: int64"
      ]
     },
     "execution_count": 13,
     "metadata": {},
     "output_type": "execute_result"
    }
   ],
   "source": [
    "df[\"Label\"].value_counts()"
   ]
  },
  {
   "cell_type": "code",
   "execution_count": 14,
   "id": "404a2f31",
   "metadata": {
    "scrolled": true
   },
   "outputs": [
    {
     "data": {
      "text/plain": [
       "Nitrogen       0\n",
       "Phosphorus     0\n",
       "Potassium      0\n",
       "Temperature    0\n",
       "Humidity       0\n",
       "PH             0\n",
       "Rainfall       0\n",
       "Label          0\n",
       "dtype: int64"
      ]
     },
     "execution_count": 14,
     "metadata": {},
     "output_type": "execute_result"
    }
   ],
   "source": [
    "df.isnull().sum()"
   ]
  },
  {
   "cell_type": "code",
   "execution_count": 15,
   "id": "cf9ba029",
   "metadata": {},
   "outputs": [
    {
     "data": {
      "text/plain": [
       "array([20, 11,  3,  9, 18, 13, 14,  2, 10, 19,  1, 12,  7, 21, 15,  0, 16,\n",
       "       17,  4,  6,  8,  5], dtype=int64)"
      ]
     },
     "execution_count": 15,
     "metadata": {},
     "output_type": "execute_result"
    }
   ],
   "source": [
    "df[\"Label\"].unique()"
   ]
  },
  {
   "cell_type": "markdown",
   "id": "272876cf",
   "metadata": {},
   "source": [
    "__Finding Out Layers__"
   ]
  },
  {
   "cell_type": "code",
   "execution_count": 16,
   "id": "07e82722",
   "metadata": {},
   "outputs": [
    {
     "data": {
      "text/plain": [
       "Index(['Nitrogen', 'Phosphorus', 'Potassium', 'Temperature', 'Humidity', 'PH',\n",
       "       'Rainfall', 'Label'],\n",
       "      dtype='object')"
      ]
     },
     "execution_count": 16,
     "metadata": {},
     "output_type": "execute_result"
    }
   ],
   "source": [
    "df.columns"
   ]
  },
  {
   "cell_type": "code",
   "execution_count": 17,
   "id": "aafc493e",
   "metadata": {},
   "outputs": [
    {
     "data": {
      "image/png": "[encoded data removed]",
      "text/plain": [
       "<Figure size 432x288 with 1 Axes>"
      ]
     },
     "metadata": {
      "needs_background": "light"
     },
     "output_type": "display_data"
    },
    {
     "data": {
      "image/png": "[encoded data removed]",
      "text/plain": [
       "<Figure size 432x288 with 1 Axes>"
      ]
     },
     "metadata": {
      "needs_background": "light"
     },
     "output_type": "display_data"
    },
    {
     "data": {
      "image/png": "[encoded data removed]",
      "text/plain": [
       "<Figure size 432x288 with 1 Axes>"
      ]
     },
     "metadata": {
      "needs_background": "light"
     },
     "output_type": "display_data"
    },
    {
     "data": {
      "image/png": "[encoded data removed]",
      "text/plain": [
       "<Figure size 432x288 with 1 Axes>"
      ]
     },
     "metadata": {
      "needs_background": "light"
     },
     "output_type": "display_data"
    },
    {
     "data": {
      "image/png": "[encoded data removed]",
      "text/plain": [
       "<Figure size 432x288 with 1 Axes>"
      ]
     },
     "metadata": {
      "needs_background": "light"
     },
     "output_type": "display_data"
    },
    {
     "data": {
      "image/png": "[encoded data removed]",
      "text/plain": [
       "<Figure size 432x288 with 1 Axes>"
      ]
     },
     "metadata": {
      "needs_background": "light"
     },
     "output_type": "display_data"
    },
    {
     "data": {
      "image/png": "[encoded data removed]",
      "text/plain": [
       "<Figure size 432x288 with 1 Axes>"
      ]
     },
     "metadata": {
      "needs_background": "light"
     },
     "output_type": "display_data"
    },
    {
     "data": {
      "image/png": "[encoded data removed]",
      "text/plain": [
       "<Figure size 432x288 with 1 Axes>"
      ]
     },
     "metadata": {
      "needs_background": "light"
     },
     "output_type": "display_data"
    }
   ],
   "source": [
    "for i in df.columns:\n",
    "    try:\n",
    "        sns.boxplot(df[i])\n",
    "        plt.show()\n",
    "    except:\n",
    "        print(\"This is Categorial\",i)\n",
    "        "
   ]
  },
  {
   "cell_type": "code",
   "execution_count": 18,
   "id": "edf4cdee",
   "metadata": {},
   "outputs": [],
   "source": [
    "from feature_engine.outliers import Winsorizer"
   ]
  },
  {
   "cell_type": "code",
   "execution_count": 19,
   "id": "409ff71d",
   "metadata": {},
   "outputs": [],
   "source": [
    "win_n = Winsorizer(capping_method=\"iqr\",tail='both',fold=1.5,variables=[\"Nitrogen\"])"
   ]
  },
  {
   "cell_type": "code",
   "execution_count": 20,
   "id": "efd8cdbe",
   "metadata": {},
   "outputs": [],
   "source": [
    "win_P = Winsorizer(capping_method=\"iqr\",tail='both',fold=1.5,variables=[\"Phosphorus\"])"
   ]
  },
  {
   "cell_type": "code",
   "execution_count": 21,
   "id": "907f469d",
   "metadata": {},
   "outputs": [],
   "source": [
    "win_p = Winsorizer(capping_method=\"iqr\",tail='both',fold=1.5,variables=[\"Potassium\"])"
   ]
  },
  {
   "cell_type": "code",
   "execution_count": 22,
   "id": "d7917d4a",
   "metadata": {},
   "outputs": [],
   "source": [
    "win_t = Winsorizer(capping_method=\"iqr\",tail='both',fold=1.5,variables=[\"Temperature\"])"
   ]
  },
  {
   "cell_type": "code",
   "execution_count": 23,
   "id": "dec8e3db",
   "metadata": {},
   "outputs": [],
   "source": [
    "win_h = Winsorizer(capping_method=\"iqr\",tail='both',fold=1.5,variables=[\"Humidity\"])"
   ]
  },
  {
   "cell_type": "code",
   "execution_count": 24,
   "id": "fa58b237",
   "metadata": {},
   "outputs": [],
   "source": [
    "win_ph = Winsorizer(capping_method=\"iqr\",tail='both',fold=1.5,variables=[\"PH\"])"
   ]
  },
  {
   "cell_type": "code",
   "execution_count": 25,
   "id": "c2c4869c",
   "metadata": {},
   "outputs": [],
   "source": [
    "win_r = Winsorizer(capping_method=\"iqr\",tail='both',fold=1.5,variables=[\"Rainfall\"])"
   ]
  },
  {
   "cell_type": "code",
   "execution_count": 26,
   "id": "337e51ea",
   "metadata": {},
   "outputs": [],
   "source": [
    "df[\"Nitrogen\"] = win_n.fit_transform(df[[\"Nitrogen\"]])"
   ]
  },
  {
   "cell_type": "code",
   "execution_count": 27,
   "id": "22bc254c",
   "metadata": {},
   "outputs": [],
   "source": [
    "df[\"Phosphorus\"] = win_P.fit_transform(df[[\"Phosphorus\"]])"
   ]
  },
  {
   "cell_type": "code",
   "execution_count": 28,
   "id": "4930202e",
   "metadata": {},
   "outputs": [],
   "source": [
    "df[\"Potassium\"] = win_p.fit_transform(df[[\"Potassium\"]])"
   ]
  },
  {
   "cell_type": "code",
   "execution_count": 29,
   "id": "87fe7f49",
   "metadata": {},
   "outputs": [],
   "source": [
    "df[\"Temperature\"] = win_t.fit_transform(df[[\"Temperature\"]])"
   ]
  },
  {
   "cell_type": "code",
   "execution_count": 30,
   "id": "73ecf6df",
   "metadata": {},
   "outputs": [],
   "source": [
    "df[\"Humidity\"] = win_h.fit_transform(df[[\"Humidity\"]])"
   ]
  },
  {
   "cell_type": "code",
   "execution_count": 31,
   "id": "f3d249fc",
   "metadata": {},
   "outputs": [],
   "source": [
    "df[\"PH\"] = win_ph.fit_transform(df[[\"PH\"]])"
   ]
  },
  {
   "cell_type": "code",
   "execution_count": 32,
   "id": "d46db1f9",
   "metadata": {},
   "outputs": [],
   "source": [
    "df[\"Rainfall\"] = win_r.fit_transform(df[[\"Rainfall\"]])"
   ]
  },
  {
   "cell_type": "code",
   "execution_count": 33,
   "id": "22a1783a",
   "metadata": {},
   "outputs": [
    {
     "data": {
      "image/png": "[encoded data removed]",
      "text/plain": [
       "<Figure size 432x288 with 1 Axes>"
      ]
     },
     "metadata": {
      "needs_background": "light"
     },
     "output_type": "display_data"
    },
    {
     "data": {
      "image/png": "[encoded data removed]",
      "text/plain": [
       "<Figure size 432x288 with 1 Axes>"
      ]
     },
     "metadata": {
      "needs_background": "light"
     },
     "output_type": "display_data"
    },
    {
     "data": {
      "image/png": "[encoded data removed]",
      "text/plain": [
       "<Figure size 432x288 with 1 Axes>"
      ]
     },
     "metadata": {
      "needs_background": "light"
     },
     "output_type": "display_data"
    },
    {
     "data": {
      "image/png": "[encoded data removed]",
      "text/plain": [
       "<Figure size 432x288 with 1 Axes>"
      ]
     },
     "metadata": {
      "needs_background": "light"
     },
     "output_type": "display_data"
    },
    {
     "data": {
      "image/png": "[encoded data removed]",
      "text/plain": [
       "<Figure size 432x288 with 1 Axes>"
      ]
     },
     "metadata": {
      "needs_background": "light"
     },
     "output_type": "display_data"
    },
    {
     "data": {
      "image/png": "[encoded data removed]",
      "text/plain": [
       "<Figure size 432x288 with 1 Axes>"
      ]
     },
     "metadata": {
      "needs_background": "light"
     },
     "output_type": "display_data"
    },
    {
     "data": {
      "image/png": "[encoded data removed]",
      "text/plain": [
       "<Figure size 432x288 with 1 Axes>"
      ]
     },
     "metadata": {
      "needs_background": "light"
     },
     "output_type": "display_data"
    },
    {
     "data": {
      "image/png": "[encoded data removed]",
      "text/plain": [
       "<Figure size 432x288 with 1 Axes>"
      ]
     },
     "metadata": {
      "needs_background": "light"
     },
     "output_type": "display_data"
    }
   ],
   "source": [
    "for i in df.columns:\n",
    "    try:\n",
    "        sns.boxplot(df[i])\n",
    "        plt.show()\n",
    "    except:\n",
    "        print(\"This is a Categorial\",i)"
   ]
  },
  {
   "cell_type": "markdown",
   "id": "15371e9e",
   "metadata": {},
   "source": [
    "__Visualising Feature Label__"
   ]
  },
  {
   "cell_type": "code",
   "execution_count": 34,
   "id": "b4918a49",
   "metadata": {},
   "outputs": [
    {
     "data": {
      "text/plain": [
       "<bound method Figure.tight_layout of <Figure size 1440x720 with 2 Axes>>"
      ]
     },
     "execution_count": 34,
     "metadata": {},
     "output_type": "execute_result"
    },
    {
     "data": {
      "image/png": "[encoded data removed]",
      "text/plain": [
       "<Figure size 1440x720 with 2 Axes>"
      ]
     },
     "metadata": {
      "needs_background": "light"
     },
     "output_type": "display_data"
    }
   ],
   "source": [
    "f, axs = plt.subplots(1, 2, figsize = (20, 10), gridspec_kw = dict(width_ratios = [6, 6]))\n",
    "sns.scatterplot(data = df, x = \"Temperature\", y = \"Humidity\", hue = \"Label\", alpha = 0.8, ax = axs[0])\n",
    "sns.scatterplot(data = df, x = \"Rainfall\", y = \"PH\", hue = \"Label\", alpha = 1, ax = axs[1])\n",
    "f.tight_layout"
   ]
  },
  {
   "cell_type": "code",
   "execution_count": 35,
   "id": "c596fdf6",
   "metadata": {},
   "outputs": [
    {
     "data": {
      "image/png": "[encoded data removed]",
      "text/plain": [
       "<Figure size 1440x288 with 4 Axes>"
      ]
     },
     "metadata": {
      "needs_background": "light"
     },
     "output_type": "display_data"
    }
   ],
   "source": [
    "fig, axes = plt.subplots(1, 4, figsize = (20, 4))\n",
    "\n",
    "sns.histplot(ax = axes[0], x = df[\"Nitrogen\"],\n",
    "              bins = 10,\n",
    "              kde = True,\n",
    "              cbar = True,\n",
    "              color = \"#CA96EC\").set(title = \"Distribution of 'Nitrogen'\");\n",
    "\n",
    "sns.histplot(ax = axes[1], x = df[\"Phosphorus\"],\n",
    "              bins = 10,\n",
    "              kde = True,\n",
    "              cbar = True,\n",
    "              color = \"#CA96EC\").set(title = \"Distribution of 'Phosphorus'\");\n",
    "\n",
    "sns.histplot(ax = axes[2], x = df[\"Potassium\"],\n",
    "              bins = 10,\n",
    "              kde = True,\n",
    "              cbar = True,\n",
    "              color = \"#CA96EC\").set(title = \"Distribution of 'Potassium'\");\n",
    "\n",
    "sns.histplot(ax = axes[3], x = df[\"Temperature\"],\n",
    "              bins = 10,\n",
    "              kde = True,\n",
    "              cbar = True,\n",
    "              color = \"#CA96EC\").set(title = \"Distribution of 'Temperature'\");\n"
   ]
  },
  {
   "cell_type": "code",
   "execution_count": 36,
   "id": "3f89bdc0",
   "metadata": {},
   "outputs": [
    {
     "data": {
      "image/png": "[encoded data removed]",
      "text/plain": [
       "<Figure size 1440x288 with 4 Axes>"
      ]
     },
     "metadata": {
      "needs_background": "light"
     },
     "output_type": "display_data"
    }
   ],
   "source": [
    "fig, axes = plt.subplots(1, 4, figsize = (20, 4))\n",
    "\n",
    "sns.histplot(ax = axes[0], x = df[\"Humidity\"],\n",
    "              bins = 10,\n",
    "              kde = True,\n",
    "              cbar = True,\n",
    "              color = \"#CA96EC\").set(title = \"Distribution of 'Humidity'\");\n",
    "\n",
    "sns.histplot(ax = axes[1], x = df[\"PH\"],\n",
    "              bins = 10,\n",
    "              kde = True,\n",
    "              cbar = True,\n",
    "              color = \"#CA96EC\").set(title = \"Distribution of 'PH'\");\n",
    "\n",
    "sns.histplot(ax = axes[2], x = df[\"Rainfall\"],\n",
    "              bins = 10,\n",
    "              kde = True,\n",
    "              cbar = True,\n",
    "              color = \"#CA96EC\").set(title = \"Distribution of 'Rainfall'\");\n",
    "\n",
    "sns.histplot(ax = axes[3], x = df[\"Label\"],\n",
    "              bins = 10,\n",
    "              kde = True,\n",
    "              cbar = True,\n",
    "              color = \"#CA96EC\").set(title = \"Distribution of 'Label'\");\n"
   ]
  },
  {
   "cell_type": "markdown",
   "id": "086e9796",
   "metadata": {},
   "source": [
    "__Correlation__"
   ]
  },
  {
   "cell_type": "code",
   "execution_count": 37,
   "id": "f5aca41a",
   "metadata": {},
   "outputs": [
    {
     "data": {
      "text/html": [
       "<div>\n",
       "<style scoped>\n",
       "    .dataframe tbody tr th:only-of-type {\n",
       "        vertical-align: middle;\n",
       "    }\n",
       "\n",
       "    .dataframe tbody tr th {\n",
       "        vertical-align: top;\n",
       "    }\n",
       "\n",
       "    .dataframe thead th {\n",
       "        text-align: right;\n",
       "    }\n",
       "</style>\n",
       "<table border=\"1\" class=\"dataframe\">\n",
       "  <thead>\n",
       "    <tr style=\"text-align: right;\">\n",
       "      <th></th>\n",
       "      <th>Nitrogen</th>\n",
       "      <th>Phosphorus</th>\n",
       "      <th>Potassium</th>\n",
       "      <th>Temperature</th>\n",
       "      <th>Humidity</th>\n",
       "      <th>PH</th>\n",
       "      <th>Rainfall</th>\n",
       "      <th>Label</th>\n",
       "    </tr>\n",
       "  </thead>\n",
       "  <tbody>\n",
       "    <tr>\n",
       "      <th>Nitrogen</th>\n",
       "      <td>1.000000</td>\n",
       "      <td>-0.227834</td>\n",
       "      <td>0.019000</td>\n",
       "      <td>0.023850</td>\n",
       "      <td>0.190746</td>\n",
       "      <td>0.106321</td>\n",
       "      <td>0.044041</td>\n",
       "      <td>-0.031130</td>\n",
       "    </tr>\n",
       "    <tr>\n",
       "      <th>Phosphorus</th>\n",
       "      <td>-0.227834</td>\n",
       "      <td>1.000000</td>\n",
       "      <td>0.561850</td>\n",
       "      <td>-0.132569</td>\n",
       "      <td>-0.138850</td>\n",
       "      <td>-0.140243</td>\n",
       "      <td>-0.063986</td>\n",
       "      <td>-0.492414</td>\n",
       "    </tr>\n",
       "    <tr>\n",
       "      <th>Potassium</th>\n",
       "      <td>0.019000</td>\n",
       "      <td>0.561850</td>\n",
       "      <td>1.000000</td>\n",
       "      <td>-0.164312</td>\n",
       "      <td>0.120765</td>\n",
       "      <td>-0.107937</td>\n",
       "      <td>-0.026358</td>\n",
       "      <td>-0.288385</td>\n",
       "    </tr>\n",
       "    <tr>\n",
       "      <th>Temperature</th>\n",
       "      <td>0.023850</td>\n",
       "      <td>-0.132569</td>\n",
       "      <td>-0.164312</td>\n",
       "      <td>1.000000</td>\n",
       "      <td>0.212362</td>\n",
       "      <td>-0.020906</td>\n",
       "      <td>-0.041047</td>\n",
       "      <td>0.111306</td>\n",
       "    </tr>\n",
       "    <tr>\n",
       "      <th>Humidity</th>\n",
       "      <td>0.190746</td>\n",
       "      <td>-0.138850</td>\n",
       "      <td>0.120765</td>\n",
       "      <td>0.212362</td>\n",
       "      <td>1.000000</td>\n",
       "      <td>0.000323</td>\n",
       "      <td>0.085163</td>\n",
       "      <td>0.193551</td>\n",
       "    </tr>\n",
       "    <tr>\n",
       "      <th>PH</th>\n",
       "      <td>0.106321</td>\n",
       "      <td>-0.140243</td>\n",
       "      <td>-0.107937</td>\n",
       "      <td>-0.020906</td>\n",
       "      <td>0.000323</td>\n",
       "      <td>1.000000</td>\n",
       "      <td>-0.119116</td>\n",
       "      <td>-0.011796</td>\n",
       "    </tr>\n",
       "    <tr>\n",
       "      <th>Rainfall</th>\n",
       "      <td>0.044041</td>\n",
       "      <td>-0.063986</td>\n",
       "      <td>-0.026358</td>\n",
       "      <td>-0.041047</td>\n",
       "      <td>0.085163</td>\n",
       "      <td>-0.119116</td>\n",
       "      <td>1.000000</td>\n",
       "      <td>0.009406</td>\n",
       "    </tr>\n",
       "    <tr>\n",
       "      <th>Label</th>\n",
       "      <td>-0.031130</td>\n",
       "      <td>-0.492414</td>\n",
       "      <td>-0.288385</td>\n",
       "      <td>0.111306</td>\n",
       "      <td>0.193551</td>\n",
       "      <td>-0.011796</td>\n",
       "      <td>0.009406</td>\n",
       "      <td>1.000000</td>\n",
       "    </tr>\n",
       "  </tbody>\n",
       "</table>\n",
       "</div>"
      ],
      "text/plain": [
       "             Nitrogen  Phosphorus  Potassium  Temperature  Humidity        PH  \\\n",
       "Nitrogen     1.000000   -0.227834   0.019000     0.023850  0.190746  0.106321   \n",
       "Phosphorus  -0.227834    1.000000   0.561850    -0.132569 -0.138850 -0.140243   \n",
       "Potassium    0.019000    0.561850   1.000000    -0.164312  0.120765 -0.107937   \n",
       "Temperature  0.023850   -0.132569  -0.164312     1.000000  0.212362 -0.020906   \n",
       "Humidity     0.190746   -0.138850   0.120765     0.212362  1.000000  0.000323   \n",
       "PH           0.106321   -0.140243  -0.107937    -0.020906  0.000323  1.000000   \n",
       "Rainfall     0.044041   -0.063986  -0.026358    -0.041047  0.085163 -0.119116   \n",
       "Label       -0.031130   -0.492414  -0.288385     0.111306  0.193551 -0.011796   \n",
       "\n",
       "             Rainfall     Label  \n",
       "Nitrogen     0.044041 -0.031130  \n",
       "Phosphorus  -0.063986 -0.492414  \n",
       "Potassium   -0.026358 -0.288385  \n",
       "Temperature -0.041047  0.111306  \n",
       "Humidity     0.085163  0.193551  \n",
       "PH          -0.119116 -0.011796  \n",
       "Rainfall     1.000000  0.009406  \n",
       "Label        0.009406  1.000000  "
      ]
     },
     "execution_count": 37,
     "metadata": {},
     "output_type": "execute_result"
    }
   ],
   "source": [
    "df.corr()"
   ]
  },
  {
   "cell_type": "code",
   "execution_count": 38,
   "id": "5395917b",
   "metadata": {},
   "outputs": [
    {
     "data": {
      "image/png": "[encoded data removed]",
      "text/plain": [
       "<Figure size 432x288 with 2 Axes>"
      ]
     },
     "metadata": {
      "needs_background": "light"
     },
     "output_type": "display_data"
    }
   ],
   "source": [
    "corr = df.corr()\n",
    "sns.heatmap(corr, annot = True)\n",
    "plt.title('Heatmap', fontsize =20)\n",
    "plt.show()"
   ]
  },
  {
   "cell_type": "markdown",
   "id": "6f416c6d",
   "metadata": {},
   "source": [
    "__Feature Selection__"
   ]
  },
  {
   "cell_type": "code",
   "execution_count": 39,
   "id": "245225b0",
   "metadata": {},
   "outputs": [
    {
     "data": {
      "text/plain": [
       "Index(['Nitrogen', 'Phosphorus', 'Potassium', 'Temperature', 'Humidity', 'PH',\n",
       "       'Rainfall', 'Label'],\n",
       "      dtype='object')"
      ]
     },
     "execution_count": 39,
     "metadata": {},
     "output_type": "execute_result"
    }
   ],
   "source": [
    "df.columns"
   ]
  },
  {
   "cell_type": "code",
   "execution_count": 40,
   "id": "60bb3b8f",
   "metadata": {},
   "outputs": [],
   "source": [
    "features = df[['Nitrogen', 'Phosphorus', 'Potassium', 'Temperature', 'Humidity', 'PH',\n",
    "       'Rainfall']]\n",
    "target = df[\"Label\"]"
   ]
  },
  {
   "cell_type": "markdown",
   "id": "bc3545a9",
   "metadata": {},
   "source": [
    "__Train_Test_Split__"
   ]
  },
  {
   "cell_type": "code",
   "execution_count": 41,
   "id": "7284a994",
   "metadata": {},
   "outputs": [],
   "source": [
    "from sklearn.model_selection import train_test_split"
   ]
  },
  {
   "cell_type": "code",
   "execution_count": 42,
   "id": "2d09c872",
   "metadata": {},
   "outputs": [],
   "source": [
    "x_train,x_test,y_train,y_test = train_test_split(features,target,test_size = 0.3, random_state = None)"
   ]
  },
  {
   "cell_type": "code",
   "execution_count": 43,
   "id": "73929e14",
   "metadata": {},
   "outputs": [
    {
     "data": {
      "text/plain": [
       "(1540, 7)"
      ]
     },
     "execution_count": 43,
     "metadata": {},
     "output_type": "execute_result"
    }
   ],
   "source": [
    "x_train.shape"
   ]
  },
  {
   "cell_type": "code",
   "execution_count": 44,
   "id": "ba89f102",
   "metadata": {},
   "outputs": [
    {
     "data": {
      "text/plain": [
       "(1540,)"
      ]
     },
     "execution_count": 44,
     "metadata": {},
     "output_type": "execute_result"
    }
   ],
   "source": [
    "y_train.shape"
   ]
  },
  {
   "cell_type": "code",
   "execution_count": 45,
   "id": "9653fe8e",
   "metadata": {},
   "outputs": [
    {
     "data": {
      "text/plain": [
       "(660, 7)"
      ]
     },
     "execution_count": 45,
     "metadata": {},
     "output_type": "execute_result"
    }
   ],
   "source": [
    "x_test.shape"
   ]
  },
  {
   "cell_type": "code",
   "execution_count": 46,
   "id": "27a39d46",
   "metadata": {},
   "outputs": [
    {
     "data": {
      "text/plain": [
       "(660,)"
      ]
     },
     "execution_count": 46,
     "metadata": {},
     "output_type": "execute_result"
    }
   ],
   "source": [
    "y_test.shape"
   ]
  },
  {
   "cell_type": "markdown",
   "id": "d26afc3a",
   "metadata": {},
   "source": [
    "<h3 style=\"color:olive\"><center><b>Building Machine Learning Models</b><center></h3>"
   ]
  },
  {
   "cell_type": "markdown",
   "id": "92d487c7",
   "metadata": {},
   "source": [
    "__Logistic Regression__"
   ]
  },
  {
   "cell_type": "code",
   "execution_count": 47,
   "id": "8f8991f7",
   "metadata": {},
   "outputs": [],
   "source": [
    "from sklearn.linear_model import LogisticRegression"
   ]
  },
  {
   "cell_type": "code",
   "execution_count": 48,
   "id": "45183d8d",
   "metadata": {},
   "outputs": [],
   "source": [
    "model1 = LogisticRegression(random_state = None)"
   ]
  },
  {
   "cell_type": "code",
   "execution_count": 49,
   "id": "7889316a",
   "metadata": {},
   "outputs": [
    {
     "data": {
      "text/plain": [
       "LogisticRegression()"
      ]
     },
     "execution_count": 49,
     "metadata": {},
     "output_type": "execute_result"
    }
   ],
   "source": [
    "model1.fit(x_train,y_train)"
   ]
  },
  {
   "cell_type": "code",
   "execution_count": 50,
   "id": "284d966f",
   "metadata": {},
   "outputs": [
    {
     "data": {
      "text/plain": [
       "0.9701298701298702"
      ]
     },
     "execution_count": 50,
     "metadata": {},
     "output_type": "execute_result"
    }
   ],
   "source": [
    "model1.score(x_train,y_train)"
   ]
  },
  {
   "cell_type": "code",
   "execution_count": 51,
   "id": "698b2aa9",
   "metadata": {},
   "outputs": [
    {
     "data": {
      "text/plain": [
       "0.946969696969697"
      ]
     },
     "execution_count": 51,
     "metadata": {},
     "output_type": "execute_result"
    }
   ],
   "source": [
    "model1.score(x_test,y_test)"
   ]
  },
  {
   "cell_type": "code",
   "execution_count": 52,
   "id": "c7248909",
   "metadata": {},
   "outputs": [
    {
     "data": {
      "text/plain": [
       "array([ 2,  0, 18,  4, 14,  4, 15, 18, 11, 13, 10, 18, 21,  8, 19, 21,  0,\n",
       "       13,  1,  0,  3, 19,  0, 15,  1, 19, 19,  8,  3, 17, 20, 10, 20, 13,\n",
       "        1,  5, 13, 19,  3, 21, 11, 10, 10,  5,  2,  4, 13, 20, 17,  0, 11,\n",
       "       14, 12,  3,  6, 21,  4, 11, 18,  0,  5,  1,  2, 20, 13,  9,  0, 14,\n",
       "        6,  1,  4,  2,  5, 16,  6, 11, 18,  8, 10, 13, 12, 10, 18,  6,  0,\n",
       "        0,  4,  0, 20, 19,  7, 19, 15,  5,  2, 11, 21, 11, 11,  4,  0,  6,\n",
       "       12,  7,  3, 17,  7,  8, 11, 21, 19, 19, 11, 20,  7,  9,  7,  6, 10,\n",
       "       16, 16, 21,  6,  5, 21,  4, 11, 16, 19,  9,  0, 17, 14,  3, 15,  1,\n",
       "        2,  9, 17,  5,  1,  0, 10,  9, 20, 20,  2, 17, 12, 17, 21,  2, 15,\n",
       "        8, 20, 16, 15, 17,  8, 12,  4, 14, 10,  4, 20,  2, 21, 14,  0,  3,\n",
       "        5,  5,  3, 11,  2,  8, 20,  6, 20,  1, 13,  6, 11,  4, 13,  7, 18,\n",
       "       18, 19,  8, 10, 15, 13,  3, 13, 16,  8,  1,  6, 12, 14, 19, 20,  9,\n",
       "       10,  9,  1, 17,  9, 16,  6, 19, 17, 20,  9, 17,  0,  9, 19, 16,  8,\n",
       "       12,  8,  5, 20,  7, 21,  7, 21, 20,  1, 10,  4, 12, 20,  8, 14,  0,\n",
       "        8, 19, 15, 21, 20, 14, 19, 18, 14, 18,  1,  6,  7, 21,  5, 12, 15,\n",
       "        3,  5, 18, 20,  1, 13, 13, 12, 15, 16, 11, 10,  6,  0,  9, 10, 10,\n",
       "        4,  5,  4,  7,  2,  2, 10, 16, 17, 11,  6, 10, 13,  4,  9,  2,  7,\n",
       "       11, 14, 13, 13,  7, 16,  8, 17,  6, 20,  9,  0,  1,  9, 16, 15, 12,\n",
       "       14, 14,  1,  7, 10,  5,  1, 18, 21, 13, 21,  1, 18,  1, 15, 14,  1,\n",
       "        0,  8,  8, 14, 16, 18,  4, 18, 12,  0, 16, 10,  1, 14, 11, 10, 14,\n",
       "       15,  7,  1, 20, 17,  8, 14,  6, 15,  5,  2,  3, 16, 12, 21,  5,  2,\n",
       "       20, 19,  9,  6,  6, 10,  8,  5, 16,  8,  2, 15,  6,  6, 19, 11, 21,\n",
       "        7, 12, 18, 13,  3, 14,  2,  6,  0, 17, 14, 16, 17,  3,  7, 20,  4,\n",
       "       16, 21, 10,  8, 16, 18,  2, 20, 11, 16, 15, 17,  5,  5, 16,  1, 21,\n",
       "        5,  2, 11,  9,  9,  8, 21,  0, 13,  6, 18, 18, 16, 16,  0,  7,  8,\n",
       "       20, 13,  6,  8,  5, 14,  2,  4, 17,  8,  9, 16, 13,  6,  8, 21,  3,\n",
       "        5,  4, 15, 12,  2, 10,  9, 20,  7, 21, 20,  4,  1, 10,  4, 20, 11,\n",
       "       19,  5, 13,  4, 16, 11,  8,  7,  7, 20,  2,  0,  6, 10,  2,  4,  2,\n",
       "       21,  3, 19, 21, 15, 15,  2, 21, 18, 19, 19, 16, 21,  9,  1, 20,  3,\n",
       "       21,  6, 10,  0,  8, 21, 10, 10,  4,  4, 15, 20, 14,  2, 17, 20,  7,\n",
       "       18,  3,  8, 14, 21,  3,  9,  1, 10, 10, 13,  6,  1, 13,  6, 12, 15,\n",
       "        9, 12,  5, 17,  0, 16,  3, 19,  8,  0,  0, 13, 17, 11, 17,  7,  3,\n",
       "        0,  7, 19,  0,  0, 13, 14, 10, 14,  0, 17, 14,  8, 15,  1, 14,  8,\n",
       "       17,  1,  4, 12,  1,  9,  8,  4, 18,  6, 10, 21,  7,  5,  7, 12, 11,\n",
       "        5,  7, 13, 13,  9,  6,  2,  5,  3, 10,  0,  1,  1, 12,  9, 11, 20,\n",
       "       14, 17, 20, 14,  5, 17, 10, 18, 11, 19,  5,  8,  1,  8, 20, 16,  5,\n",
       "        9, 20,  3, 15, 19,  4, 17, 12, 13, 17, 15, 18, 17,  8,  7,  4, 20,\n",
       "       16,  0,  4,  4, 16, 14,  3, 18, 13,  9, 20, 20,  2,  1, 18, 11,  1,\n",
       "       15,  4, 11,  1, 15,  8, 20,  3, 15,  4,  0,  0,  8, 14],\n",
       "      dtype=int64)"
      ]
     },
     "execution_count": 52,
     "metadata": {},
     "output_type": "execute_result"
    }
   ],
   "source": [
    "y_pred = model1.predict(x_test)\n",
    "y_pred"
   ]
  },
  {
   "cell_type": "code",
   "execution_count": 53,
   "id": "b9cbd2f6",
   "metadata": {},
   "outputs": [
    {
     "data": {
      "text/plain": [
       "array([[36,  0,  0,  0,  0,  0,  0,  0,  0,  0,  0,  0,  0,  0,  0,  0,\n",
       "         0,  0,  0,  0,  0,  0],\n",
       "       [ 0, 35,  0,  0,  0,  0,  0,  0,  0,  0,  0,  0,  0,  0,  0,  0,\n",
       "         0,  0,  0,  0,  0,  0],\n",
       "       [ 0,  0, 26,  0,  0,  0,  0,  0,  0,  0,  1,  0,  0,  4,  0,  0,\n",
       "         0,  0,  0,  0,  0,  0],\n",
       "       [ 0,  0,  0, 24,  0,  0,  0,  0,  0,  0,  0,  0,  0,  0,  0,  0,\n",
       "         0,  0,  0,  0,  0,  0],\n",
       "       [ 0,  0,  0,  0, 31,  0,  0,  0,  0,  0,  0,  0,  0,  0,  0,  0,\n",
       "         1,  0,  0,  1,  0,  0],\n",
       "       [ 0,  0,  0,  0,  0, 29,  0,  0,  1,  0,  0,  0,  0,  0,  0,  0,\n",
       "         0,  0,  0,  0,  0,  0],\n",
       "       [ 0,  0,  0,  0,  0,  0, 28,  0,  0,  0,  0,  1,  0,  0,  0,  0,\n",
       "         0,  0,  0,  0,  0,  0],\n",
       "       [ 0,  0,  0,  0,  0,  0,  0, 27,  0,  0,  0,  0,  0,  0,  0,  0,\n",
       "         0,  0,  0,  0,  0,  0],\n",
       "       [ 0,  0,  0,  0,  0,  1,  0,  0, 34,  0,  0,  0,  0,  0,  0,  0,\n",
       "         0,  1,  0,  0,  7,  0],\n",
       "       [ 0,  0,  0,  0,  0,  0,  0,  0,  0, 26,  0,  0,  0,  0,  0,  0,\n",
       "         0,  0,  0,  0,  0,  0],\n",
       "       [ 0,  0,  0,  0,  0,  0,  0,  0,  0,  0, 27,  0,  0,  0,  0,  0,\n",
       "         0,  0,  0,  0,  0,  0],\n",
       "       [ 0,  0,  0,  0,  0,  0,  2,  0,  1,  0,  0, 27,  0,  0,  0,  0,\n",
       "         0,  0,  0,  0,  0,  0],\n",
       "       [ 0,  0,  0,  0,  0,  0,  0,  0,  0,  0,  0,  0, 21,  0,  0,  0,\n",
       "         0,  0,  0,  0,  0,  0],\n",
       "       [ 0,  0,  2,  0,  0,  0,  0,  0,  0,  0,  4,  0,  0, 25,  1,  0,\n",
       "         0,  0,  0,  0,  0,  0],\n",
       "       [ 0,  0,  0,  0,  0,  0,  0,  0,  0,  0,  2,  0,  0,  0, 30,  0,\n",
       "         0,  0,  0,  0,  0,  0],\n",
       "       [ 0,  0,  0,  0,  0,  0,  0,  0,  0,  0,  0,  0,  0,  0,  0, 27,\n",
       "         0,  0,  0,  0,  0,  0],\n",
       "       [ 0,  0,  0,  0,  0,  0,  0,  0,  0,  0,  0,  0,  0,  0,  0,  0,\n",
       "        29,  0,  0,  0,  0,  0],\n",
       "       [ 0,  0,  0,  0,  1,  0,  0,  0,  0,  0,  0,  0,  0,  1,  0,  0,\n",
       "         0, 28,  0,  0,  0,  0],\n",
       "       [ 0,  0,  0,  0,  0,  0,  0,  0,  0,  1,  0,  0,  0,  0,  0,  0,\n",
       "         0,  0, 26,  0,  0,  0],\n",
       "       [ 0,  0,  0,  0,  1,  0,  0,  0,  0,  0,  0,  0,  0,  0,  0,  0,\n",
       "         0,  0,  0, 25,  0,  0],\n",
       "       [ 0,  0,  0,  0,  0,  0,  0,  0,  1,  0,  0,  0,  0,  0,  0,  0,\n",
       "         0,  0,  0,  0, 33,  0],\n",
       "       [ 0,  0,  0,  0,  0,  0,  0,  0,  0,  0,  0,  0,  0,  0,  0,  0,\n",
       "         0,  0,  0,  0,  0, 31]], dtype=int64)"
      ]
     },
     "execution_count": 53,
     "metadata": {},
     "output_type": "execute_result"
    }
   ],
   "source": [
    "#making the confusion matrices \n",
    "from sklearn.metrics import confusion_matrix\n",
    "cm1 = confusion_matrix(y_test,y_pred)\n",
    "cm1"
   ]
  },
  {
   "cell_type": "code",
   "execution_count": 54,
   "id": "2979f8e1",
   "metadata": {},
   "outputs": [
    {
     "data": {
      "text/plain": [
       "0.946969696969697"
      ]
     },
     "execution_count": 54,
     "metadata": {},
     "output_type": "execute_result"
    }
   ],
   "source": [
    "from sklearn.metrics import accuracy_score\n",
    "ac1 = accuracy_score(y_test,y_pred)\n",
    "ac1"
   ]
  },
  {
   "cell_type": "markdown",
   "id": "d639eb52",
   "metadata": {},
   "source": [
    "__PRECISION__"
   ]
  },
  {
   "cell_type": "code",
   "execution_count": 55,
   "id": "7347e5ab",
   "metadata": {},
   "outputs": [
    {
     "data": {
      "text/plain": [
       "0.946969696969697"
      ]
     },
     "execution_count": 55,
     "metadata": {},
     "output_type": "execute_result"
    }
   ],
   "source": [
    "from sklearn import metrics\n",
    "precision_positive1 = metrics.precision_score(y_test, y_pred, pos_label = \"Positive\", average = \"micro\")\n",
    "precision_positive1"
   ]
  },
  {
   "cell_type": "code",
   "execution_count": 56,
   "id": "53cc6cbc",
   "metadata": {},
   "outputs": [
    {
     "data": {
      "text/plain": [
       "0.946969696969697"
      ]
     },
     "execution_count": 56,
     "metadata": {},
     "output_type": "execute_result"
    }
   ],
   "source": [
    "precision_negative1 = metrics.precision_score(y_test, y_pred, pos_label = \"negative\", average = \"micro\")\n",
    "precision_negative1"
   ]
  },
  {
   "cell_type": "markdown",
   "id": "5dcd6870",
   "metadata": {},
   "source": [
    "__RECALL__"
   ]
  },
  {
   "cell_type": "code",
   "execution_count": 57,
   "id": "f647beaf",
   "metadata": {},
   "outputs": [
    {
     "data": {
      "text/plain": [
       "0.946969696969697"
      ]
     },
     "execution_count": 57,
     "metadata": {},
     "output_type": "execute_result"
    }
   ],
   "source": [
    "recall_sensitivity1 = metrics.recall_score(y_test, y_pred, pos_label = \"positive\", average = \"micro\")\n",
    "recall_sensitivity1\n",
    "\n",
    "recall_specificity1 = metrics.recall_score(y_test, y_pred, pos_label = \"positive\", average = \"micro\")\n",
    "recall_specificity1"
   ]
  },
  {
   "cell_type": "markdown",
   "id": "b8aa656f",
   "metadata": {},
   "source": [
    "__F1 Score__"
   ]
  },
  {
   "cell_type": "code",
   "execution_count": 58,
   "id": "699bb23d",
   "metadata": {},
   "outputs": [
    {
     "data": {
      "text/plain": [
       "0.946969696969697"
      ]
     },
     "execution_count": 58,
     "metadata": {},
     "output_type": "execute_result"
    }
   ],
   "source": [
    "f1_positive1 = metrics.f1_score(y_test, y_pred, pos_label=1, average = \"micro\")\n",
    "f1_positive1\n",
    "\n",
    "f1_negative1 = metrics.f1_score(y_test, y_pred, pos_label=0, average = \"micro\")\n",
    "f1_negative1 "
   ]
  },
  {
   "cell_type": "markdown",
   "id": "802bad12",
   "metadata": {},
   "source": [
    "__Validation__"
   ]
  },
  {
   "cell_type": "code",
   "execution_count": 59,
   "id": "6344d908",
   "metadata": {},
   "outputs": [],
   "source": [
    "from sklearn.model_selection import StratifiedKFold\n",
    "from sklearn.model_selection import cross_val_score"
   ]
  },
  {
   "cell_type": "code",
   "execution_count": 60,
   "id": "c66f91ec",
   "metadata": {},
   "outputs": [],
   "source": [
    "skf = StratifiedKFold(n_splits = 10, shuffle = True, random_state = None)"
   ]
  },
  {
   "cell_type": "code",
   "execution_count": 61,
   "id": "0beed340",
   "metadata": {},
   "outputs": [
    {
     "data": {
      "text/plain": [
       "array([0.95      , 0.96363636, 0.96363636, 0.94545455, 0.95909091,\n",
       "       0.96363636, 0.95454545, 0.97727273, 0.95909091, 0.97272727])"
      ]
     },
     "execution_count": 61,
     "metadata": {},
     "output_type": "execute_result"
    }
   ],
   "source": [
    "lr_cvscr = cross_val_score(model1, features, target, cv = skf)\n",
    "lr_cvscr"
   ]
  },
  {
   "cell_type": "code",
   "execution_count": 62,
   "id": "f07d656d",
   "metadata": {},
   "outputs": [
    {
     "data": {
      "text/plain": [
       "0.9609090909090909"
      ]
     },
     "execution_count": 62,
     "metadata": {},
     "output_type": "execute_result"
    }
   ],
   "source": [
    "cvsm1 = lr_cvscr.mean()\n",
    "cvsm1"
   ]
  },
  {
   "cell_type": "markdown",
   "id": "0785606c",
   "metadata": {},
   "source": [
    "__K-Nearest Nighbor(KNN)__"
   ]
  },
  {
   "cell_type": "code",
   "execution_count": 63,
   "id": "984ae45c",
   "metadata": {},
   "outputs": [],
   "source": [
    "#import alogrithm methods from libraries\n",
    "from sklearn.neighbors import KNeighborsClassifier"
   ]
  },
  {
   "cell_type": "code",
   "execution_count": 64,
   "id": "384d75f4",
   "metadata": {},
   "outputs": [],
   "source": [
    "model2 = KNeighborsClassifier(n_neighbors = 5)"
   ]
  },
  {
   "cell_type": "code",
   "execution_count": 65,
   "id": "8492e7dc",
   "metadata": {},
   "outputs": [
    {
     "data": {
      "text/plain": [
       "KNeighborsClassifier()"
      ]
     },
     "execution_count": 65,
     "metadata": {},
     "output_type": "execute_result"
    }
   ],
   "source": [
    "model2.fit(x_train,y_train)"
   ]
  },
  {
   "cell_type": "code",
   "execution_count": 66,
   "id": "ee4ea88c",
   "metadata": {},
   "outputs": [
    {
     "data": {
      "text/plain": [
       "0.9837662337662337"
      ]
     },
     "execution_count": 66,
     "metadata": {},
     "output_type": "execute_result"
    }
   ],
   "source": [
    "model2.score(x_train,y_train)"
   ]
  },
  {
   "cell_type": "code",
   "execution_count": 67,
   "id": "401182aa",
   "metadata": {},
   "outputs": [
    {
     "data": {
      "text/plain": [
       "0.9848484848484849"
      ]
     },
     "execution_count": 67,
     "metadata": {},
     "output_type": "execute_result"
    }
   ],
   "source": [
    "model2.score(x_test,y_test)"
   ]
  },
  {
   "cell_type": "code",
   "execution_count": 68,
   "id": "79e5940b",
   "metadata": {},
   "outputs": [
    {
     "data": {
      "text/plain": [
       "array([ 2,  0, 18,  4, 14,  4, 15, 18, 11, 13, 10, 18, 21,  8, 19, 21,  0,\n",
       "       13,  1,  0,  3, 19,  0, 15,  1, 19, 19,  8,  3, 17, 20, 10,  8, 13,\n",
       "        1,  5,  2, 19,  3, 21, 11, 10, 10,  8,  2,  4, 13, 20, 17,  0, 11,\n",
       "       14, 12,  3,  6, 21,  4, 11, 18,  0,  5,  1,  2, 20, 13,  9,  0, 14,\n",
       "        6,  1,  4,  2,  5, 16,  6, 11, 18,  8, 10, 13, 12, 10, 18,  6,  0,\n",
       "        0,  4,  0, 20, 19,  7,  4, 15,  5,  2, 11, 21, 11, 11,  4,  0,  6,\n",
       "       12,  7,  3, 17,  7,  8, 11, 21, 19, 19, 11,  8,  7,  9,  7,  6, 10,\n",
       "       16, 16, 21,  6,  5, 21,  4, 11, 16, 19,  9,  0, 17, 14,  3, 15,  1,\n",
       "        2,  9, 17,  5,  1,  0, 10,  9, 20, 20,  2, 17, 12, 17, 21,  2, 15,\n",
       "        8,  8, 16, 15, 17,  8, 12,  4, 14, 10,  4, 20,  2, 21, 14,  0,  3,\n",
       "        5,  5,  3, 11,  2,  8, 20,  6, 20,  1, 13,  6, 11,  4, 13,  7, 18,\n",
       "       18, 19,  8, 10, 15, 13,  3, 13, 16,  8,  1,  6, 12, 14, 19, 20,  9,\n",
       "       10,  9,  1, 17,  9, 16,  6, 19, 17, 20,  9, 17,  0,  9, 19, 16,  8,\n",
       "       12,  8,  5, 20,  7, 21,  7, 21, 20,  1, 10,  4, 12, 20, 11, 14,  0,\n",
       "        8, 19, 15, 21,  8, 14, 19, 18, 14, 18,  1,  6,  7, 21,  5, 12, 15,\n",
       "        3,  5, 18, 20,  1, 13, 13, 12, 15, 16, 11, 10,  6,  0,  9, 10, 10,\n",
       "        4,  5, 19,  7,  2,  2, 10, 16, 17, 11,  6,  2, 13,  4,  9,  2,  7,\n",
       "       11, 14, 17, 13,  7, 16,  8, 17,  6, 20,  9,  0,  1,  9, 16, 15, 12,\n",
       "       14, 13,  1,  7, 10,  5,  1, 18, 21, 13, 21,  1, 18,  1, 15, 14,  1,\n",
       "        0,  8,  8, 14, 16, 18,  4, 18, 12,  0, 16, 10,  1, 14, 11, 10, 14,\n",
       "       15,  7,  1, 20, 17,  8, 14,  6, 15,  5,  2,  3, 16, 12, 21,  5,  2,\n",
       "        8, 19,  9,  6,  6, 13,  8,  5, 16,  8,  2, 15,  6,  6, 19, 11, 21,\n",
       "        7, 12, 18, 13,  3, 14,  2,  6,  0,  8, 14, 16, 17,  3,  7, 20,  4,\n",
       "       16, 21, 10,  8, 16, 18, 13,  8, 11, 16, 15, 17,  5,  5, 16,  1, 21,\n",
       "        5,  2, 11,  9,  9,  8, 21,  0, 13,  6, 18, 18, 16, 16,  0,  7,  8,\n",
       "       20, 13,  6,  8,  5, 14,  2,  4, 17,  8,  9, 16, 13,  6,  8, 21,  3,\n",
       "        5,  4, 15, 12, 13, 14,  9, 20,  7, 21, 20, 17,  1, 10,  4, 20, 11,\n",
       "       19,  5,  2,  4, 16, 11,  8,  7,  7, 20,  2,  0,  6, 13,  2,  4,  2,\n",
       "       21,  3, 19, 21, 15, 15,  2, 21, 18, 19, 19,  4, 21,  9,  1, 20,  3,\n",
       "       21,  6, 10,  0,  8, 21, 10, 14,  4,  4, 15, 20, 14,  2, 17, 20,  7,\n",
       "       18,  3,  8, 14, 21,  3,  9,  1, 10, 10, 13,  6,  1, 13, 11, 12, 15,\n",
       "        9, 12,  5, 17,  0, 16,  3, 19,  8,  0,  0, 13, 17, 11, 17,  7,  3,\n",
       "        0,  7, 19,  0,  0, 13, 14, 13, 14,  0, 17, 14, 20, 15,  1, 14,  8,\n",
       "       17,  1,  4, 12,  1,  9,  8,  4, 18,  6, 10, 21,  7,  5,  7, 12,  6,\n",
       "        5,  7,  2,  2,  9,  6,  2,  5,  3, 10,  0,  1,  1, 12,  9, 11, 20,\n",
       "       14, 17, 20, 14,  5, 17, 10, 18,  6, 19,  5, 20,  1,  8, 20, 16,  5,\n",
       "        9, 20,  3, 15, 19,  4, 17, 12, 13, 17, 15, 18, 17,  8,  7,  4, 20,\n",
       "       16,  0,  4,  4, 16, 14,  3, 18, 13, 18, 20,  8,  2,  1, 18, 11,  1,\n",
       "       15,  4, 11,  1, 15,  5, 20,  3, 15,  4,  0,  0,  8, 14],\n",
       "      dtype=int64)"
      ]
     },
     "execution_count": 68,
     "metadata": {},
     "output_type": "execute_result"
    }
   ],
   "source": [
    "y_pred = model2.predict(x_test)\n",
    "y_pred"
   ]
  },
  {
   "cell_type": "code",
   "execution_count": 69,
   "id": "a5f30f4c",
   "metadata": {},
   "outputs": [
    {
     "data": {
      "text/plain": [
       "array([[36,  0,  0,  0,  0,  0,  0,  0,  0,  0,  0,  0,  0,  0,  0,  0,\n",
       "         0,  0,  0,  0,  0,  0],\n",
       "       [ 0, 35,  0,  0,  0,  0,  0,  0,  0,  0,  0,  0,  0,  0,  0,  0,\n",
       "         0,  0,  0,  0,  0,  0],\n",
       "       [ 0,  0, 31,  0,  0,  0,  0,  0,  0,  0,  0,  0,  0,  0,  0,  0,\n",
       "         0,  0,  0,  0,  0,  0],\n",
       "       [ 0,  0,  0, 24,  0,  0,  0,  0,  0,  0,  0,  0,  0,  0,  0,  0,\n",
       "         0,  0,  0,  0,  0,  0],\n",
       "       [ 0,  0,  0,  0, 33,  0,  0,  0,  0,  0,  0,  0,  0,  0,  0,  0,\n",
       "         0,  0,  0,  0,  0,  0],\n",
       "       [ 0,  0,  0,  0,  0, 30,  0,  0,  0,  0,  0,  0,  0,  0,  0,  0,\n",
       "         0,  0,  0,  0,  0,  0],\n",
       "       [ 0,  0,  0,  0,  0,  0, 29,  0,  0,  0,  0,  0,  0,  0,  0,  0,\n",
       "         0,  0,  0,  0,  0,  0],\n",
       "       [ 0,  0,  0,  0,  0,  0,  0, 27,  0,  0,  0,  0,  0,  0,  0,  0,\n",
       "         0,  0,  0,  0,  0,  0],\n",
       "       [ 0,  0,  0,  0,  0,  0,  0,  0, 39,  0,  0,  0,  0,  0,  0,  0,\n",
       "         0,  0,  0,  0,  4,  0],\n",
       "       [ 0,  0,  0,  0,  0,  0,  0,  0,  0, 26,  0,  0,  0,  0,  0,  0,\n",
       "         0,  0,  0,  0,  0,  0],\n",
       "       [ 0,  0,  0,  0,  0,  0,  0,  0,  0,  0, 27,  0,  0,  0,  0,  0,\n",
       "         0,  0,  0,  0,  0,  0],\n",
       "       [ 0,  0,  0,  0,  0,  0,  2,  0,  0,  0,  0, 28,  0,  0,  0,  0,\n",
       "         0,  0,  0,  0,  0,  0],\n",
       "       [ 0,  0,  0,  0,  0,  0,  0,  0,  0,  0,  0,  0, 21,  0,  0,  0,\n",
       "         0,  0,  0,  0,  0,  0],\n",
       "       [ 0,  0,  0,  0,  0,  0,  0,  0,  0,  0,  1,  0,  0, 31,  0,  0,\n",
       "         0,  0,  0,  0,  0,  0],\n",
       "       [ 0,  0,  0,  0,  0,  0,  0,  0,  0,  0,  0,  0,  0,  0, 32,  0,\n",
       "         0,  0,  0,  0,  0,  0],\n",
       "       [ 0,  0,  0,  0,  0,  0,  0,  0,  0,  0,  0,  0,  0,  0,  0, 27,\n",
       "         0,  0,  0,  0,  0,  0],\n",
       "       [ 0,  0,  0,  0,  0,  0,  0,  0,  0,  0,  0,  0,  0,  0,  0,  0,\n",
       "        29,  0,  0,  0,  0,  0],\n",
       "       [ 0,  0,  0,  0,  0,  0,  0,  0,  0,  0,  0,  0,  0,  0,  0,  0,\n",
       "         0, 30,  0,  0,  0,  0],\n",
       "       [ 0,  0,  0,  0,  0,  0,  0,  0,  0,  0,  0,  0,  0,  0,  0,  0,\n",
       "         0,  0, 27,  0,  0,  0],\n",
       "       [ 0,  0,  0,  0,  0,  0,  0,  0,  0,  0,  0,  0,  0,  0,  0,  0,\n",
       "         0,  0,  0, 26,  0,  0],\n",
       "       [ 0,  0,  0,  0,  0,  0,  0,  0,  3,  0,  0,  0,  0,  0,  0,  0,\n",
       "         0,  0,  0,  0, 31,  0],\n",
       "       [ 0,  0,  0,  0,  0,  0,  0,  0,  0,  0,  0,  0,  0,  0,  0,  0,\n",
       "         0,  0,  0,  0,  0, 31]], dtype=int64)"
      ]
     },
     "execution_count": 69,
     "metadata": {},
     "output_type": "execute_result"
    }
   ],
   "source": [
    "from sklearn.metrics import confusion_matrix\n",
    "cm2 = confusion_matrix(y_test,y_pred)\n",
    "cm2"
   ]
  },
  {
   "cell_type": "code",
   "execution_count": 70,
   "id": "6d4b470f",
   "metadata": {},
   "outputs": [
    {
     "data": {
      "text/plain": [
       "0.9848484848484849"
      ]
     },
     "execution_count": 70,
     "metadata": {},
     "output_type": "execute_result"
    }
   ],
   "source": [
    "from sklearn.metrics import accuracy_score\n",
    "ac2 = accuracy_score(y_test,y_pred)\n",
    "ac2"
   ]
  },
  {
   "cell_type": "markdown",
   "id": "105588a0",
   "metadata": {},
   "source": [
    "__Precision__"
   ]
  },
  {
   "cell_type": "code",
   "execution_count": 71,
   "id": "57c6c484",
   "metadata": {},
   "outputs": [
    {
     "data": {
      "text/plain": [
       "0.9848484848484849"
      ]
     },
     "execution_count": 71,
     "metadata": {},
     "output_type": "execute_result"
    }
   ],
   "source": [
    "precision_positive2 = metrics.precision_score(y_test, y_pred, pos_label = \"Positive\", average = \"micro\")\n",
    "precision_positive2\n",
    "\n",
    "precision_negative2 = metrics.precision_score(y_test, y_pred, pos_label = \"negative\", average = \"micro\")\n",
    "precision_negative2"
   ]
  },
  {
   "cell_type": "markdown",
   "id": "a38e3747",
   "metadata": {},
   "source": [
    "__Recall__"
   ]
  },
  {
   "cell_type": "code",
   "execution_count": 72,
   "id": "1e951fc1",
   "metadata": {},
   "outputs": [
    {
     "data": {
      "text/plain": [
       "0.9848484848484849"
      ]
     },
     "execution_count": 72,
     "metadata": {},
     "output_type": "execute_result"
    }
   ],
   "source": [
    "recall_sensitivity2 = metrics.recall_score(y_test, y_pred, pos_label = \"positive\", average = \"micro\")\n",
    "recall_sensitivity2\n",
    "\n",
    "recall_specificity2 = metrics.recall_score(y_test, y_pred, pos_label = \"positive\", average = \"micro\")\n",
    "recall_specificity2"
   ]
  },
  {
   "cell_type": "markdown",
   "id": "675e1ac8",
   "metadata": {},
   "source": [
    "__F1 Score__"
   ]
  },
  {
   "cell_type": "code",
   "execution_count": 73,
   "id": "12481700",
   "metadata": {},
   "outputs": [
    {
     "data": {
      "text/plain": [
       "0.9848484848484849"
      ]
     },
     "execution_count": 73,
     "metadata": {},
     "output_type": "execute_result"
    }
   ],
   "source": [
    "f1_positive2 = metrics.f1_score(y_test, y_pred, pos_label=1, average = \"micro\")\n",
    "f1_positive2\n",
    "\n",
    "f1_negative2 = metrics.f1_score(y_test, y_pred, pos_label=0, average = \"micro\")\n",
    "f1_negative2 "
   ]
  },
  {
   "cell_type": "markdown",
   "id": "870ff599",
   "metadata": {},
   "source": [
    "__Validation__"
   ]
  },
  {
   "cell_type": "code",
   "execution_count": 74,
   "id": "2dc615a3",
   "metadata": {},
   "outputs": [],
   "source": [
    "from sklearn.model_selection import StratifiedKFold \n",
    "from sklearn.model_selection import cross_val_score"
   ]
  },
  {
   "cell_type": "code",
   "execution_count": 75,
   "id": "080e72f8",
   "metadata": {},
   "outputs": [],
   "source": [
    "skf = StratifiedKFold(n_splits = 10, shuffle = True, random_state = None)"
   ]
  },
  {
   "cell_type": "code",
   "execution_count": 76,
   "id": "3846a013",
   "metadata": {},
   "outputs": [
    {
     "data": {
      "text/plain": [
       "array([0.97727273, 0.94545455, 0.96818182, 0.94545455, 0.96363636,\n",
       "       0.95909091, 0.95909091, 0.95454545, 0.95909091, 0.95454545])"
      ]
     },
     "execution_count": 76,
     "metadata": {},
     "output_type": "execute_result"
    }
   ],
   "source": [
    "kn_cvscr = cross_val_score(model1, features, target, cv = skf)\n",
    "kn_cvscr"
   ]
  },
  {
   "cell_type": "code",
   "execution_count": 77,
   "id": "f0707fbd",
   "metadata": {},
   "outputs": [
    {
     "data": {
      "text/plain": [
       "0.9586363636363637"
      ]
     },
     "execution_count": 77,
     "metadata": {},
     "output_type": "execute_result"
    }
   ],
   "source": [
    "kncv2 = kn_cvscr.mean()\n",
    "kncv2"
   ]
  },
  {
   "cell_type": "markdown",
   "id": "b940d3f0",
   "metadata": {},
   "source": [
    "__Support Vector Machine(SVM)__"
   ]
  },
  {
   "cell_type": "code",
   "execution_count": 78,
   "id": "d0fe16d7",
   "metadata": {},
   "outputs": [],
   "source": [
    "from sklearn.svm import SVC"
   ]
  },
  {
   "cell_type": "code",
   "execution_count": 79,
   "id": "dc36f764",
   "metadata": {},
   "outputs": [],
   "source": [
    "model3 = SVC(kernel = \"poly\")"
   ]
  },
  {
   "cell_type": "code",
   "execution_count": 80,
   "id": "e617fadd",
   "metadata": {},
   "outputs": [
    {
     "data": {
      "text/plain": [
       "SVC(kernel='poly')"
      ]
     },
     "execution_count": 80,
     "metadata": {},
     "output_type": "execute_result"
    }
   ],
   "source": [
    "model3.fit(x_train,y_train)"
   ]
  },
  {
   "cell_type": "code",
   "execution_count": 81,
   "id": "c7322fa6",
   "metadata": {},
   "outputs": [
    {
     "data": {
      "text/plain": [
       "0.9863636363636363"
      ]
     },
     "execution_count": 81,
     "metadata": {},
     "output_type": "execute_result"
    }
   ],
   "source": [
    "model3.score(x_train,y_train)"
   ]
  },
  {
   "cell_type": "code",
   "execution_count": 82,
   "id": "adfcfcb0",
   "metadata": {},
   "outputs": [
    {
     "data": {
      "text/plain": [
       "0.9893939393939394"
      ]
     },
     "execution_count": 82,
     "metadata": {},
     "output_type": "execute_result"
    }
   ],
   "source": [
    "model3.score(x_test,y_test)"
   ]
  },
  {
   "cell_type": "code",
   "execution_count": 83,
   "id": "fd1357ff",
   "metadata": {},
   "outputs": [
    {
     "data": {
      "text/plain": [
       "array([ 2,  0, 18,  4, 14,  4, 15, 18, 11, 13, 10, 18, 21,  8, 19, 21,  0,\n",
       "       13,  1,  0,  3, 19,  0, 15,  1, 19, 19,  8,  3, 17, 20, 10,  8, 13,\n",
       "        1,  5,  2, 19,  3, 21, 11, 10, 10,  5,  2,  4, 13,  8, 17,  0, 11,\n",
       "       14, 12,  3,  6, 21,  4, 11, 18,  0,  5,  1,  2, 20, 13,  9,  0, 14,\n",
       "        6,  1,  4,  2,  5, 16,  6, 11, 18,  8, 10, 13, 12, 10, 18,  6,  0,\n",
       "        0,  4,  0,  8, 19,  7,  4, 15,  5,  2, 11, 21, 11, 11,  4,  0,  6,\n",
       "       12,  7,  3, 17,  7,  8, 11, 21, 19, 19, 11, 20,  7,  9,  7, 11, 10,\n",
       "       16, 16, 21,  6,  5, 21,  4, 11, 16, 19,  9,  0, 17, 14,  3, 15,  1,\n",
       "        2,  9, 17,  5,  1,  0, 10,  9,  8, 20,  2, 17, 12, 17, 21,  2, 15,\n",
       "        8,  8, 16, 15, 17,  8, 12,  4, 14, 13,  4, 20,  2, 21, 14,  0,  3,\n",
       "        5,  5,  3, 11,  2,  8, 20,  6, 20,  1, 13,  6, 11,  4, 13,  7, 18,\n",
       "       18, 19,  8, 10, 15, 13,  3, 13, 16,  8,  1,  6, 12, 14, 19, 20,  9,\n",
       "       10,  9,  1, 17,  9, 16,  6, 19, 17, 20,  9, 17,  0,  9, 19, 16,  8,\n",
       "       12,  8,  5, 20,  7, 21,  7, 21, 20,  1, 10,  4, 12, 20, 11, 14,  0,\n",
       "        8, 19, 15, 21,  8, 14, 19, 18, 14, 18,  1,  6,  7, 21,  5, 12, 15,\n",
       "        3,  5, 18, 20,  1, 13, 13, 12, 15, 16, 11, 10,  6,  0,  9, 10, 10,\n",
       "        4,  5, 19,  7,  2,  2, 10, 16, 17, 11,  6,  2, 13,  4,  9,  2,  7,\n",
       "       11, 14, 17, 13,  7, 16,  8, 17,  6, 20,  9,  0,  1,  9, 16, 15, 12,\n",
       "       14, 13,  1,  7, 10,  5,  1, 18, 21, 13, 21,  1, 18,  1, 15, 14,  1,\n",
       "        0,  8,  8, 14, 16, 18,  4, 18, 12,  0, 16, 10,  1, 14, 11, 10, 14,\n",
       "       15,  7,  1, 20, 17,  8, 14,  6, 15,  5,  2,  3, 16, 12, 21,  5,  2,\n",
       "       20, 19,  9,  6,  6, 13,  8,  5, 16,  8,  2, 15,  6,  6, 19, 11, 21,\n",
       "        7, 12, 18, 13,  3, 14,  2,  6,  0,  8, 14, 16, 17,  3,  7, 20,  4,\n",
       "       16, 21, 10,  8, 16, 18, 13, 20, 11, 16, 15, 17,  5,  5, 16,  1, 21,\n",
       "        5,  2, 11,  9,  9,  8, 21,  0, 13,  6, 18, 18, 16, 16,  0,  7,  8,\n",
       "       20, 13,  6,  8,  5, 14,  2,  4, 17,  8,  9, 16, 13,  6,  8, 21,  3,\n",
       "        5,  4, 15, 12, 13, 14,  9, 20,  7, 21, 20, 17,  1, 10,  4, 20, 11,\n",
       "       19,  5,  2,  4, 16, 11,  8,  7,  7, 20,  2,  0,  6, 13,  2,  4,  2,\n",
       "       21,  3, 19, 21, 15, 15,  2, 21, 18, 19, 19,  4, 21,  9,  1, 20,  3,\n",
       "       21,  6, 10,  0,  8, 21, 10, 14,  4,  4, 15, 20, 14,  2, 17, 20,  7,\n",
       "       18,  3,  8, 14, 21,  3,  9,  1, 10, 10, 13,  6,  1, 13, 11, 12, 15,\n",
       "        9, 12,  5, 17,  0, 16,  3, 19,  8,  0,  0, 13, 17, 11, 17,  7,  3,\n",
       "        0,  7, 19,  0,  0, 13, 14, 13, 14,  0, 17, 14,  8, 15,  1, 14,  8,\n",
       "       17,  1,  4, 12,  1,  9,  8,  4, 18,  6, 10, 21,  7,  5,  7, 12, 11,\n",
       "        5,  7,  2,  2,  9,  6,  2,  5,  3, 10,  0,  1,  1, 12,  9, 11, 20,\n",
       "       14, 17, 20, 14,  5, 17, 10, 18,  6, 19,  5, 20,  1,  8, 20, 16,  5,\n",
       "        9, 20,  3, 15, 19,  4, 17, 12, 13, 17, 15, 18, 17,  8,  7,  4, 20,\n",
       "       16,  0,  4,  4, 16, 14,  3, 18, 13, 18, 20,  8,  2,  1, 18, 11,  1,\n",
       "       15,  4, 11,  1, 15,  5, 20,  3, 15,  4,  0,  0,  8, 14],\n",
       "      dtype=int64)"
      ]
     },
     "execution_count": 83,
     "metadata": {},
     "output_type": "execute_result"
    }
   ],
   "source": [
    "y_pred = model3.predict(x_test)\n",
    "y_pred"
   ]
  },
  {
   "cell_type": "code",
   "execution_count": 84,
   "id": "1ff2545b",
   "metadata": {},
   "outputs": [
    {
     "data": {
      "text/plain": [
       "array([[36,  0,  0,  0,  0,  0,  0,  0,  0,  0,  0,  0,  0,  0,  0,  0,\n",
       "         0,  0,  0,  0,  0,  0],\n",
       "       [ 0, 35,  0,  0,  0,  0,  0,  0,  0,  0,  0,  0,  0,  0,  0,  0,\n",
       "         0,  0,  0,  0,  0,  0],\n",
       "       [ 0,  0, 31,  0,  0,  0,  0,  0,  0,  0,  0,  0,  0,  0,  0,  0,\n",
       "         0,  0,  0,  0,  0,  0],\n",
       "       [ 0,  0,  0, 24,  0,  0,  0,  0,  0,  0,  0,  0,  0,  0,  0,  0,\n",
       "         0,  0,  0,  0,  0,  0],\n",
       "       [ 0,  0,  0,  0, 33,  0,  0,  0,  0,  0,  0,  0,  0,  0,  0,  0,\n",
       "         0,  0,  0,  0,  0,  0],\n",
       "       [ 0,  0,  0,  0,  0, 30,  0,  0,  0,  0,  0,  0,  0,  0,  0,  0,\n",
       "         0,  0,  0,  0,  0,  0],\n",
       "       [ 0,  0,  0,  0,  0,  0, 29,  0,  0,  0,  0,  0,  0,  0,  0,  0,\n",
       "         0,  0,  0,  0,  0,  0],\n",
       "       [ 0,  0,  0,  0,  0,  0,  0, 27,  0,  0,  0,  0,  0,  0,  0,  0,\n",
       "         0,  0,  0,  0,  0,  0],\n",
       "       [ 0,  0,  0,  0,  0,  1,  0,  0, 39,  0,  0,  0,  0,  0,  0,  0,\n",
       "         0,  0,  0,  0,  3,  0],\n",
       "       [ 0,  0,  0,  0,  0,  0,  0,  0,  0, 26,  0,  0,  0,  0,  0,  0,\n",
       "         0,  0,  0,  0,  0,  0],\n",
       "       [ 0,  0,  0,  0,  0,  0,  0,  0,  0,  0, 27,  0,  0,  0,  0,  0,\n",
       "         0,  0,  0,  0,  0,  0],\n",
       "       [ 0,  0,  0,  0,  0,  0,  0,  0,  0,  0,  0, 30,  0,  0,  0,  0,\n",
       "         0,  0,  0,  0,  0,  0],\n",
       "       [ 0,  0,  0,  0,  0,  0,  0,  0,  0,  0,  0,  0, 21,  0,  0,  0,\n",
       "         0,  0,  0,  0,  0,  0],\n",
       "       [ 0,  0,  0,  0,  0,  0,  0,  0,  0,  0,  0,  0,  0, 32,  0,  0,\n",
       "         0,  0,  0,  0,  0,  0],\n",
       "       [ 0,  0,  0,  0,  0,  0,  0,  0,  0,  0,  0,  0,  0,  0, 32,  0,\n",
       "         0,  0,  0,  0,  0,  0],\n",
       "       [ 0,  0,  0,  0,  0,  0,  0,  0,  0,  0,  0,  0,  0,  0,  0, 27,\n",
       "         0,  0,  0,  0,  0,  0],\n",
       "       [ 0,  0,  0,  0,  0,  0,  0,  0,  0,  0,  0,  0,  0,  0,  0,  0,\n",
       "        29,  0,  0,  0,  0,  0],\n",
       "       [ 0,  0,  0,  0,  0,  0,  0,  0,  0,  0,  0,  0,  0,  0,  0,  0,\n",
       "         0, 30,  0,  0,  0,  0],\n",
       "       [ 0,  0,  0,  0,  0,  0,  0,  0,  0,  0,  0,  0,  0,  0,  0,  0,\n",
       "         0,  0, 27,  0,  0,  0],\n",
       "       [ 0,  0,  0,  0,  0,  0,  0,  0,  0,  0,  0,  0,  0,  0,  0,  0,\n",
       "         0,  0,  0, 26,  0,  0],\n",
       "       [ 0,  0,  0,  0,  0,  0,  0,  0,  3,  0,  0,  0,  0,  0,  0,  0,\n",
       "         0,  0,  0,  0, 31,  0],\n",
       "       [ 0,  0,  0,  0,  0,  0,  0,  0,  0,  0,  0,  0,  0,  0,  0,  0,\n",
       "         0,  0,  0,  0,  0, 31]], dtype=int64)"
      ]
     },
     "execution_count": 84,
     "metadata": {},
     "output_type": "execute_result"
    }
   ],
   "source": [
    "cm3 = confusion_matrix(y_test,y_pred)\n",
    "cm3"
   ]
  },
  {
   "cell_type": "code",
   "execution_count": 85,
   "id": "448861ad",
   "metadata": {},
   "outputs": [
    {
     "data": {
      "text/plain": [
       "0.9893939393939394"
      ]
     },
     "execution_count": 85,
     "metadata": {},
     "output_type": "execute_result"
    }
   ],
   "source": [
    "ac3 = accuracy_score(y_test,y_pred)\n",
    "ac3"
   ]
  },
  {
   "cell_type": "markdown",
   "id": "d4c13859",
   "metadata": {},
   "source": [
    "__Precision__"
   ]
  },
  {
   "cell_type": "code",
   "execution_count": 86,
   "id": "d9b7cda5",
   "metadata": {},
   "outputs": [
    {
     "data": {
      "text/plain": [
       "0.9893939393939394"
      ]
     },
     "execution_count": 86,
     "metadata": {},
     "output_type": "execute_result"
    }
   ],
   "source": [
    "precision_positive3 = metrics.precision_score(y_test, y_pred, pos_label = \"Positive\", average = \"micro\")\n",
    "precision_positive3\n",
    "\n",
    "precision_negative3 = metrics.precision_score(y_test, y_pred, pos_label = \"negative\", average = \"micro\")\n",
    "precision_negative3"
   ]
  },
  {
   "cell_type": "markdown",
   "id": "e0b5c25d",
   "metadata": {},
   "source": [
    "__Recall__"
   ]
  },
  {
   "cell_type": "code",
   "execution_count": 87,
   "id": "fc03d73a",
   "metadata": {},
   "outputs": [
    {
     "data": {
      "text/plain": [
       "0.9893939393939394"
      ]
     },
     "execution_count": 87,
     "metadata": {},
     "output_type": "execute_result"
    }
   ],
   "source": [
    "recall_sensitivity3 = metrics.recall_score(y_test, y_pred, pos_label = \"positive\", average = \"micro\")\n",
    "recall_sensitivity3\n",
    "\n",
    "recall_specificity3 = metrics.recall_score(y_test, y_pred, pos_label = \"positive\", average = \"micro\")\n",
    "recall_specificity3"
   ]
  },
  {
   "cell_type": "markdown",
   "id": "59e25847",
   "metadata": {},
   "source": [
    "__F1 score__"
   ]
  },
  {
   "cell_type": "code",
   "execution_count": 88,
   "id": "a0845383",
   "metadata": {},
   "outputs": [
    {
     "data": {
      "text/plain": [
       "0.9893939393939394"
      ]
     },
     "execution_count": 88,
     "metadata": {},
     "output_type": "execute_result"
    }
   ],
   "source": [
    "f1_positive3 = metrics.f1_score(y_test, y_pred, pos_label=1, average = \"micro\")\n",
    "f1_positive3\n",
    "\n",
    "f1_negative3 = metrics.f1_score(y_test, y_pred, pos_label=0, average = \"micro\")\n",
    "f1_negative3 "
   ]
  },
  {
   "cell_type": "markdown",
   "id": "ead1d29b",
   "metadata": {},
   "source": [
    "__Validation__"
   ]
  },
  {
   "cell_type": "code",
   "execution_count": 89,
   "id": "e3d5dd1c",
   "metadata": {},
   "outputs": [],
   "source": [
    "from sklearn.model_selection import StratifiedKFold \n",
    "from sklearn.model_selection import cross_val_score"
   ]
  },
  {
   "cell_type": "code",
   "execution_count": 90,
   "id": "7e8d8b21",
   "metadata": {},
   "outputs": [],
   "source": [
    "skf = StratifiedKFold(n_splits = 10, shuffle = True, random_state = None)"
   ]
  },
  {
   "cell_type": "code",
   "execution_count": 91,
   "id": "820bb881",
   "metadata": {},
   "outputs": [
    {
     "data": {
      "text/plain": [
       "array([0.97727273, 0.96363636, 0.95454545, 0.97727273, 0.95909091,\n",
       "       0.95909091, 0.95909091, 0.95454545, 0.95      , 0.96363636])"
      ]
     },
     "execution_count": 91,
     "metadata": {},
     "output_type": "execute_result"
    }
   ],
   "source": [
    "SVM_cvscr = cross_val_score(model1, features, target, cv = skf)\n",
    "SVM_cvscr"
   ]
  },
  {
   "cell_type": "code",
   "execution_count": 92,
   "id": "2c38de5d",
   "metadata": {},
   "outputs": [
    {
     "data": {
      "text/plain": [
       "0.9618181818181817"
      ]
     },
     "execution_count": 92,
     "metadata": {},
     "output_type": "execute_result"
    }
   ],
   "source": [
    "svmcv = SVM_cvscr.mean()\n",
    "svmcv"
   ]
  },
  {
   "cell_type": "markdown",
   "id": "626ff89e",
   "metadata": {},
   "source": [
    "__Naive Bayes__"
   ]
  },
  {
   "cell_type": "code",
   "execution_count": 93,
   "id": "e39addab",
   "metadata": {},
   "outputs": [],
   "source": [
    "from sklearn.naive_bayes import GaussianNB"
   ]
  },
  {
   "cell_type": "code",
   "execution_count": 94,
   "id": "2ef7060b",
   "metadata": {},
   "outputs": [],
   "source": [
    "model4 = GaussianNB()"
   ]
  },
  {
   "cell_type": "code",
   "execution_count": 95,
   "id": "b875c98b",
   "metadata": {},
   "outputs": [
    {
     "data": {
      "text/plain": [
       "GaussianNB()"
      ]
     },
     "execution_count": 95,
     "metadata": {},
     "output_type": "execute_result"
    }
   ],
   "source": [
    "model4.fit(x_train,y_train)"
   ]
  },
  {
   "cell_type": "code",
   "execution_count": 96,
   "id": "bab66176",
   "metadata": {},
   "outputs": [
    {
     "data": {
      "text/plain": [
       "0.9928571428571429"
      ]
     },
     "execution_count": 96,
     "metadata": {},
     "output_type": "execute_result"
    }
   ],
   "source": [
    "model4.score(x_train,y_train)"
   ]
  },
  {
   "cell_type": "code",
   "execution_count": 97,
   "id": "547a7c66",
   "metadata": {},
   "outputs": [
    {
     "data": {
      "text/plain": [
       "0.9954545454545455"
      ]
     },
     "execution_count": 97,
     "metadata": {},
     "output_type": "execute_result"
    }
   ],
   "source": [
    "model4.score(x_test,y_test)"
   ]
  },
  {
   "cell_type": "code",
   "execution_count": 98,
   "id": "4679e27c",
   "metadata": {},
   "outputs": [
    {
     "data": {
      "text/plain": [
       "array([ 2,  0, 18,  4, 14,  4, 15, 18, 11, 13, 10, 18, 21,  8, 19, 21,  0,\n",
       "       13,  1,  0,  3, 19,  0, 15,  1, 19, 19,  8,  3, 17, 20, 10,  8, 13,\n",
       "        1,  5,  2, 19,  3, 21, 11, 10, 10,  8,  2,  4, 13, 20, 17,  0, 11,\n",
       "       14, 12,  3,  6, 21,  4, 11, 18,  0,  5,  1,  2, 20, 13,  9,  0, 14,\n",
       "        6,  1,  4,  2,  5, 16,  6, 11, 18,  8, 10, 13, 12, 10, 18,  6,  0,\n",
       "        0,  4,  0, 20, 19,  7,  4, 15,  5,  2, 11, 21, 11, 11,  4,  0,  6,\n",
       "       12,  7,  3, 17,  7,  8, 11, 21, 19, 19, 11,  8,  7,  9,  7, 11, 10,\n",
       "       16, 16, 21,  6,  5, 21,  4, 11, 16, 19,  9,  0, 17, 14,  3, 15,  1,\n",
       "        2,  9, 17,  5,  1,  0, 10,  9, 20, 20,  2, 17, 12, 17, 21,  2, 15,\n",
       "        8,  8, 16, 15, 17,  8, 12,  4, 14, 13,  4, 20,  2, 21, 14,  0,  3,\n",
       "        5,  5,  3, 11,  2,  8, 20,  6, 20,  1, 13,  6, 11,  4, 13,  7, 18,\n",
       "       18, 19,  8, 10, 15, 13,  3, 13, 16,  8,  1,  6, 12, 14, 19, 20,  9,\n",
       "       10,  9,  1, 17,  9, 16,  6, 19, 17, 20,  9, 17,  0,  9, 19, 16,  8,\n",
       "       12,  8,  5, 20,  7, 21,  7, 21, 20,  1, 10,  4, 12, 20, 11, 14,  0,\n",
       "        8, 19, 15, 21,  8, 14, 19, 18, 14, 18,  1,  6,  7, 21,  5, 12, 15,\n",
       "        3,  5, 18, 20,  1, 13, 13, 12, 15, 16, 11, 10,  6,  0,  9, 10, 10,\n",
       "        4,  5, 19,  7,  2,  2, 10, 16, 17, 11,  6,  2, 13,  4,  9,  2,  7,\n",
       "       11, 14, 17, 13,  7, 16,  8, 17,  6, 20,  9,  0,  1,  9, 16, 15, 12,\n",
       "       14, 13,  1,  7, 10,  5,  1, 18, 21, 13, 21,  1, 18,  1, 15, 14,  1,\n",
       "        0,  8,  8, 14, 16, 18,  4, 18, 12,  0, 16, 10,  1, 14, 11, 10, 14,\n",
       "       15,  7,  1, 20, 17,  8, 14,  6, 15,  5,  2,  3, 16, 12, 21,  5,  2,\n",
       "       20, 19,  9,  6,  6, 13,  8,  5, 16,  8,  2, 15,  6,  6, 19, 11, 21,\n",
       "        7, 12, 18, 13,  3, 14,  2,  6,  0,  8, 14, 16, 17,  3,  7, 20,  4,\n",
       "       16, 21, 10,  8, 16, 18, 13, 20, 11, 16, 15, 17,  5,  5, 16,  1, 21,\n",
       "        5,  2, 11,  9,  9,  8, 21,  0, 13,  6, 18, 18, 16, 16,  0,  7,  8,\n",
       "       20, 13,  6,  8,  5, 14,  2,  4, 17,  8,  9, 16, 13,  6,  8, 21,  3,\n",
       "        5,  4, 15, 12, 13, 14,  9, 20,  7, 21, 20, 17,  1, 10,  4, 20, 11,\n",
       "       19,  5,  2,  4, 16, 11,  8,  7,  7, 20,  2,  0,  6, 13,  2,  4,  2,\n",
       "       21,  3, 19, 21, 15, 15,  2, 21, 18, 19, 19,  4, 21,  9,  1, 20,  3,\n",
       "       21,  6, 10,  0,  8, 21, 10, 14,  4,  4, 15, 20, 14,  2, 17, 20,  7,\n",
       "       18,  3,  8, 14, 21,  3,  9,  1, 10, 10, 13,  6,  1, 13, 11, 12, 15,\n",
       "        9, 12,  5, 17,  0, 16,  3, 19,  8,  0,  0, 13, 17, 11, 17,  7,  3,\n",
       "        0,  7, 19,  0,  0, 13, 14, 13, 14,  0, 17, 14,  8, 15,  1, 14,  8,\n",
       "       17,  1,  4, 12,  1,  9,  8,  4, 18,  6, 10, 21,  7,  5,  7, 12, 11,\n",
       "        5,  7,  2,  2,  9,  6,  2,  5,  3, 10,  0,  1,  1, 12,  9, 11, 20,\n",
       "       14, 17, 20, 14,  5, 17, 10, 18,  6, 19,  5,  8,  1,  8, 20, 16,  5,\n",
       "        9, 20,  3, 15, 19,  4, 17, 12, 13, 17, 15, 18, 17,  8,  7,  4, 20,\n",
       "       16,  0,  4,  4, 16, 14,  3, 18, 13, 18, 20,  8,  2,  1, 18, 11,  1,\n",
       "       15,  4, 11,  1, 15,  5, 20,  3, 15,  4,  0,  0,  8, 14],\n",
       "      dtype=int64)"
      ]
     },
     "execution_count": 98,
     "metadata": {},
     "output_type": "execute_result"
    }
   ],
   "source": [
    "y_pred = model4.predict(x_test)\n",
    "y_pred"
   ]
  },
  {
   "cell_type": "code",
   "execution_count": 99,
   "id": "fb552832",
   "metadata": {},
   "outputs": [
    {
     "data": {
      "text/plain": [
       "array([[36,  0,  0,  0,  0,  0,  0,  0,  0,  0,  0,  0,  0,  0,  0,  0,\n",
       "         0,  0,  0,  0,  0,  0],\n",
       "       [ 0, 35,  0,  0,  0,  0,  0,  0,  0,  0,  0,  0,  0,  0,  0,  0,\n",
       "         0,  0,  0,  0,  0,  0],\n",
       "       [ 0,  0, 31,  0,  0,  0,  0,  0,  0,  0,  0,  0,  0,  0,  0,  0,\n",
       "         0,  0,  0,  0,  0,  0],\n",
       "       [ 0,  0,  0, 24,  0,  0,  0,  0,  0,  0,  0,  0,  0,  0,  0,  0,\n",
       "         0,  0,  0,  0,  0,  0],\n",
       "       [ 0,  0,  0,  0, 33,  0,  0,  0,  0,  0,  0,  0,  0,  0,  0,  0,\n",
       "         0,  0,  0,  0,  0,  0],\n",
       "       [ 0,  0,  0,  0,  0, 30,  0,  0,  0,  0,  0,  0,  0,  0,  0,  0,\n",
       "         0,  0,  0,  0,  0,  0],\n",
       "       [ 0,  0,  0,  0,  0,  0, 29,  0,  0,  0,  0,  0,  0,  0,  0,  0,\n",
       "         0,  0,  0,  0,  0,  0],\n",
       "       [ 0,  0,  0,  0,  0,  0,  0, 27,  0,  0,  0,  0,  0,  0,  0,  0,\n",
       "         0,  0,  0,  0,  0,  0],\n",
       "       [ 0,  0,  0,  0,  0,  0,  0,  0, 41,  0,  0,  0,  0,  0,  0,  0,\n",
       "         0,  0,  0,  0,  2,  0],\n",
       "       [ 0,  0,  0,  0,  0,  0,  0,  0,  0, 26,  0,  0,  0,  0,  0,  0,\n",
       "         0,  0,  0,  0,  0,  0],\n",
       "       [ 0,  0,  0,  0,  0,  0,  0,  0,  0,  0, 27,  0,  0,  0,  0,  0,\n",
       "         0,  0,  0,  0,  0,  0],\n",
       "       [ 0,  0,  0,  0,  0,  0,  0,  0,  0,  0,  0, 30,  0,  0,  0,  0,\n",
       "         0,  0,  0,  0,  0,  0],\n",
       "       [ 0,  0,  0,  0,  0,  0,  0,  0,  0,  0,  0,  0, 21,  0,  0,  0,\n",
       "         0,  0,  0,  0,  0,  0],\n",
       "       [ 0,  0,  0,  0,  0,  0,  0,  0,  0,  0,  0,  0,  0, 32,  0,  0,\n",
       "         0,  0,  0,  0,  0,  0],\n",
       "       [ 0,  0,  0,  0,  0,  0,  0,  0,  0,  0,  0,  0,  0,  0, 32,  0,\n",
       "         0,  0,  0,  0,  0,  0],\n",
       "       [ 0,  0,  0,  0,  0,  0,  0,  0,  0,  0,  0,  0,  0,  0,  0, 27,\n",
       "         0,  0,  0,  0,  0,  0],\n",
       "       [ 0,  0,  0,  0,  0,  0,  0,  0,  0,  0,  0,  0,  0,  0,  0,  0,\n",
       "        29,  0,  0,  0,  0,  0],\n",
       "       [ 0,  0,  0,  0,  0,  0,  0,  0,  0,  0,  0,  0,  0,  0,  0,  0,\n",
       "         0, 30,  0,  0,  0,  0],\n",
       "       [ 0,  0,  0,  0,  0,  0,  0,  0,  0,  0,  0,  0,  0,  0,  0,  0,\n",
       "         0,  0, 27,  0,  0,  0],\n",
       "       [ 0,  0,  0,  0,  0,  0,  0,  0,  0,  0,  0,  0,  0,  0,  0,  0,\n",
       "         0,  0,  0, 26,  0,  0],\n",
       "       [ 0,  0,  0,  0,  0,  0,  0,  0,  1,  0,  0,  0,  0,  0,  0,  0,\n",
       "         0,  0,  0,  0, 33,  0],\n",
       "       [ 0,  0,  0,  0,  0,  0,  0,  0,  0,  0,  0,  0,  0,  0,  0,  0,\n",
       "         0,  0,  0,  0,  0, 31]], dtype=int64)"
      ]
     },
     "execution_count": 99,
     "metadata": {},
     "output_type": "execute_result"
    }
   ],
   "source": [
    "cm4 = confusion_matrix(y_test,y_pred)\n",
    "cm4"
   ]
  },
  {
   "cell_type": "code",
   "execution_count": 100,
   "id": "99cd6183",
   "metadata": {},
   "outputs": [
    {
     "data": {
      "text/plain": [
       "0.9954545454545455"
      ]
     },
     "execution_count": 100,
     "metadata": {},
     "output_type": "execute_result"
    }
   ],
   "source": [
    "ac4 = accuracy_score(y_test,y_pred)\n",
    "ac4"
   ]
  },
  {
   "cell_type": "markdown",
   "id": "6d5745ac",
   "metadata": {},
   "source": [
    "__precision__"
   ]
  },
  {
   "cell_type": "code",
   "execution_count": 101,
   "id": "6bfe06f8",
   "metadata": {},
   "outputs": [
    {
     "data": {
      "text/plain": [
       "0.9954545454545455"
      ]
     },
     "execution_count": 101,
     "metadata": {},
     "output_type": "execute_result"
    }
   ],
   "source": [
    "precision_positive4 = metrics.precision_score(y_test, y_pred, pos_label = \"Positive\", average = \"micro\")\n",
    "precision_positive4\n",
    "\n",
    "precision_negative4 = metrics.precision_score(y_test, y_pred, pos_label = \"negative\", average = \"micro\")\n",
    "precision_negative4"
   ]
  },
  {
   "cell_type": "markdown",
   "id": "f9d9f714",
   "metadata": {},
   "source": [
    "__Recall__"
   ]
  },
  {
   "cell_type": "code",
   "execution_count": 102,
   "id": "a6f617c2",
   "metadata": {},
   "outputs": [
    {
     "data": {
      "text/plain": [
       "0.9954545454545455"
      ]
     },
     "execution_count": 102,
     "metadata": {},
     "output_type": "execute_result"
    }
   ],
   "source": [
    "recall_sensitivity4 = metrics.recall_score(y_test, y_pred, pos_label = \"positive\", average = \"micro\")\n",
    "recall_sensitivity4\n",
    "\n",
    "recall_specificity4 = metrics.recall_score(y_test, y_pred, pos_label = \"positive\", average = \"micro\")\n",
    "recall_specificity4"
   ]
  },
  {
   "cell_type": "markdown",
   "id": "197bcf35",
   "metadata": {},
   "source": [
    "__F1 Score__"
   ]
  },
  {
   "cell_type": "code",
   "execution_count": 103,
   "id": "f4377f18",
   "metadata": {},
   "outputs": [
    {
     "data": {
      "text/plain": [
       "0.9954545454545455"
      ]
     },
     "execution_count": 103,
     "metadata": {},
     "output_type": "execute_result"
    }
   ],
   "source": [
    "f1_positive4 = metrics.f1_score(y_test, y_pred, pos_label=1, average = \"micro\")\n",
    "f1_positive4\n",
    "\n",
    "f1_negative4 = metrics.f1_score(y_test, y_pred, pos_label=0, average = \"micro\")\n",
    "f1_negative4 "
   ]
  },
  {
   "cell_type": "markdown",
   "id": "e97a4718",
   "metadata": {},
   "source": [
    "__Validation__"
   ]
  },
  {
   "cell_type": "code",
   "execution_count": 104,
   "id": "c8d4587b",
   "metadata": {},
   "outputs": [],
   "source": [
    "from sklearn.model_selection import StratifiedKFold \n",
    "from sklearn.model_selection import cross_val_score"
   ]
  },
  {
   "cell_type": "code",
   "execution_count": 105,
   "id": "0b152de5",
   "metadata": {},
   "outputs": [],
   "source": [
    "skf = StratifiedKFold(n_splits = 10, shuffle = True, random_state = None)"
   ]
  },
  {
   "cell_type": "code",
   "execution_count": 106,
   "id": "61ffdb49",
   "metadata": {},
   "outputs": [
    {
     "data": {
      "text/plain": [
       "array([0.93636364, 0.93636364, 0.96363636, 0.95909091, 0.95454545,\n",
       "       0.96818182, 0.95454545, 0.95909091, 0.95909091, 0.96818182])"
      ]
     },
     "execution_count": 106,
     "metadata": {},
     "output_type": "execute_result"
    }
   ],
   "source": [
    "NB_cvscr = cross_val_score(model1, features, target, cv = skf)\n",
    "NB_cvscr"
   ]
  },
  {
   "cell_type": "code",
   "execution_count": 107,
   "id": "b4e2f0a0",
   "metadata": {},
   "outputs": [
    {
     "data": {
      "text/plain": [
       "0.955909090909091"
      ]
     },
     "execution_count": 107,
     "metadata": {},
     "output_type": "execute_result"
    }
   ],
   "source": [
    "nbcv = NB_cvscr.mean()\n",
    "nbcv"
   ]
  },
  {
   "cell_type": "markdown",
   "id": "d09b69d4",
   "metadata": {},
   "source": [
    "__Decision Tree__"
   ]
  },
  {
   "cell_type": "code",
   "execution_count": 108,
   "id": "426bfa81",
   "metadata": {},
   "outputs": [],
   "source": [
    "from sklearn.tree import DecisionTreeClassifier"
   ]
  },
  {
   "cell_type": "code",
   "execution_count": 109,
   "id": "6fc16184",
   "metadata": {},
   "outputs": [],
   "source": [
    "model5 = DecisionTreeClassifier(criterion = 'entropy')"
   ]
  },
  {
   "cell_type": "code",
   "execution_count": 110,
   "id": "370120c4",
   "metadata": {},
   "outputs": [
    {
     "data": {
      "text/plain": [
       "DecisionTreeClassifier(criterion='entropy')"
      ]
     },
     "execution_count": 110,
     "metadata": {},
     "output_type": "execute_result"
    }
   ],
   "source": [
    "model5.fit(x_train,y_train)"
   ]
  },
  {
   "cell_type": "code",
   "execution_count": 111,
   "id": "d3f1a5ed",
   "metadata": {},
   "outputs": [
    {
     "data": {
      "text/plain": [
       "1.0"
      ]
     },
     "execution_count": 111,
     "metadata": {},
     "output_type": "execute_result"
    }
   ],
   "source": [
    "model5.score(x_train,y_train)"
   ]
  },
  {
   "cell_type": "code",
   "execution_count": 112,
   "id": "80baacd9",
   "metadata": {},
   "outputs": [
    {
     "data": {
      "text/plain": [
       "0.9787878787878788"
      ]
     },
     "execution_count": 112,
     "metadata": {},
     "output_type": "execute_result"
    }
   ],
   "source": [
    "model5.score(x_test,y_test)"
   ]
  },
  {
   "cell_type": "code",
   "execution_count": 113,
   "id": "60f49116",
   "metadata": {},
   "outputs": [
    {
     "data": {
      "text/plain": [
       "array([ 2,  0, 18,  4, 14,  4, 15, 18, 11, 13, 10, 18, 21,  8, 19, 21,  0,\n",
       "       13,  1,  0,  3, 19,  0, 15,  1, 19, 19,  8,  3, 17, 20, 10,  8, 13,\n",
       "        1,  5,  2, 19,  3, 21, 11, 10, 10,  8,  2,  4, 13,  8, 17,  0, 11,\n",
       "       14, 12,  3,  6, 21,  4, 11, 18,  0,  5,  1,  2, 20, 13,  9,  0, 14,\n",
       "        6,  1,  4,  2,  5, 16,  6, 11, 18,  8, 10, 13, 12, 10, 18,  6,  0,\n",
       "        0,  4,  0,  8, 19,  7,  4, 15,  5,  2, 11, 21, 11, 11,  4,  0,  6,\n",
       "       12,  7,  3, 17,  7,  8, 11, 21, 19, 19, 11,  8,  7,  9,  7, 11, 10,\n",
       "       16, 16, 21,  6,  5, 21,  4, 11, 16, 19,  9,  0, 17, 14,  3, 15,  1,\n",
       "        2,  9, 17,  5,  1,  0, 10,  9, 20, 20,  2, 17, 12, 17, 21,  2, 15,\n",
       "        8,  8, 16, 15, 17,  8, 12,  4, 14, 13,  4, 20,  2, 21, 14,  0,  3,\n",
       "        5,  5,  3, 11,  2,  8, 20,  6, 20,  8, 13,  6, 11,  4, 13,  7, 18,\n",
       "       18, 19,  8, 10, 15, 13,  3, 13, 16, 20,  1,  6, 12, 14, 19, 20,  9,\n",
       "       13,  9,  1, 17,  9, 16,  6, 19, 17, 20,  9, 17,  0,  9, 19, 16,  8,\n",
       "       12,  8,  5, 20,  7, 21,  7, 21, 20,  1, 10,  4, 12, 20, 11, 14,  0,\n",
       "        8, 19, 15, 21,  8, 14, 19, 18, 14, 18,  1,  6,  7, 21,  5, 12, 15,\n",
       "        3,  5, 18, 20,  1, 13, 13, 12, 15, 16, 11, 10,  6,  0,  9, 10, 10,\n",
       "        4,  5, 19,  7,  2,  2, 10, 16, 17, 11,  6,  2, 13,  4,  9,  2,  7,\n",
       "       11, 14, 17, 13,  7, 16,  8, 17,  6, 20,  9,  0,  1,  9, 16, 15, 12,\n",
       "       14, 13,  1,  7, 10,  5,  1, 18, 21, 13, 21, 20, 18,  1, 15, 14,  1,\n",
       "        0,  8,  8, 14, 16, 18,  4, 18, 12,  0, 16, 10,  1, 14,  2, 10, 14,\n",
       "       15,  7,  1, 20, 17,  8, 14,  6, 15,  5,  2,  3, 16, 12, 21,  5,  2,\n",
       "       20, 19,  9,  6,  6, 13,  8,  5, 16, 20,  2, 15,  6,  6, 19, 11, 21,\n",
       "        7, 12, 18, 13,  3, 14,  2,  6,  0,  8, 14, 16, 17,  3,  7, 20,  4,\n",
       "       16, 21, 10,  8, 16, 18, 13, 20, 11, 16, 15, 17,  5,  5, 16,  1, 21,\n",
       "        5,  2, 11,  9,  9,  8, 21,  0, 13,  6, 18, 18, 16, 16,  0,  7,  8,\n",
       "       20, 13,  6,  8,  5, 14,  2,  4, 17,  8,  9, 16, 13,  6,  8, 21,  3,\n",
       "        5,  4, 15, 12, 13, 14,  9, 20,  7, 21, 20, 17,  1, 10,  4, 20, 11,\n",
       "       19,  5,  2,  4, 16, 11,  8,  7,  7, 20,  2,  0,  6, 13,  2,  4,  2,\n",
       "       21,  3, 19, 21, 15, 15,  2, 21, 18, 19, 19,  4, 21,  9,  1, 20,  3,\n",
       "       21,  6, 10,  0,  8, 21, 10, 14,  4,  4, 15, 20, 14,  2, 17, 20,  7,\n",
       "       18,  3,  8, 14, 21,  3,  9,  1, 10, 10, 13,  6,  1, 13, 11, 12, 15,\n",
       "        9, 12,  5, 17,  0, 16,  3, 19, 20,  0,  0, 13, 17, 11, 17,  7,  3,\n",
       "        0,  7, 19,  0,  0, 13, 14, 13, 14,  0, 17, 14, 20, 15, 20, 14,  8,\n",
       "       17,  1,  4, 12,  1,  9,  8,  4, 18,  6, 10, 21,  7,  5,  7, 12, 11,\n",
       "        5,  7, 13,  2,  9,  6,  2,  5,  3, 10,  0,  1,  1, 12,  9, 11, 20,\n",
       "       14, 17, 20, 14,  5, 17, 10, 18,  6, 19,  5, 20,  1,  8, 20, 16,  5,\n",
       "        9, 20,  3, 15, 19,  4, 17, 12, 13, 17, 15, 18, 17,  8,  7,  4, 20,\n",
       "       16,  0,  4,  4, 16, 14,  3, 18, 13, 18, 20,  8,  2,  1, 18, 11,  1,\n",
       "       15,  4, 11,  1, 15,  5, 20,  3, 15,  4,  0,  0,  8, 14],\n",
       "      dtype=int64)"
      ]
     },
     "execution_count": 113,
     "metadata": {},
     "output_type": "execute_result"
    }
   ],
   "source": [
    "y_pred = model5.predict(x_test)\n",
    "y_pred"
   ]
  },
  {
   "cell_type": "code",
   "execution_count": 114,
   "id": "b02bdb06",
   "metadata": {},
   "outputs": [
    {
     "data": {
      "text/plain": [
       "array([[36,  0,  0,  0,  0,  0,  0,  0,  0,  0,  0,  0,  0,  0,  0,  0,\n",
       "         0,  0,  0,  0,  0,  0],\n",
       "       [ 0, 32,  0,  0,  0,  0,  0,  0,  1,  0,  0,  0,  0,  0,  0,  0,\n",
       "         0,  0,  0,  0,  2,  0],\n",
       "       [ 0,  0, 30,  0,  0,  0,  0,  0,  0,  0,  0,  0,  0,  1,  0,  0,\n",
       "         0,  0,  0,  0,  0,  0],\n",
       "       [ 0,  0,  0, 24,  0,  0,  0,  0,  0,  0,  0,  0,  0,  0,  0,  0,\n",
       "         0,  0,  0,  0,  0,  0],\n",
       "       [ 0,  0,  0,  0, 33,  0,  0,  0,  0,  0,  0,  0,  0,  0,  0,  0,\n",
       "         0,  0,  0,  0,  0,  0],\n",
       "       [ 0,  0,  0,  0,  0, 30,  0,  0,  0,  0,  0,  0,  0,  0,  0,  0,\n",
       "         0,  0,  0,  0,  0,  0],\n",
       "       [ 0,  0,  0,  0,  0,  0, 29,  0,  0,  0,  0,  0,  0,  0,  0,  0,\n",
       "         0,  0,  0,  0,  0,  0],\n",
       "       [ 0,  0,  0,  0,  0,  0,  0, 27,  0,  0,  0,  0,  0,  0,  0,  0,\n",
       "         0,  0,  0,  0,  0,  0],\n",
       "       [ 0,  0,  0,  0,  0,  0,  0,  0, 37,  0,  0,  0,  0,  0,  0,  0,\n",
       "         0,  0,  0,  0,  6,  0],\n",
       "       [ 0,  0,  0,  0,  0,  0,  0,  0,  0, 26,  0,  0,  0,  0,  0,  0,\n",
       "         0,  0,  0,  0,  0,  0],\n",
       "       [ 0,  0,  0,  0,  0,  0,  0,  0,  0,  0, 26,  0,  0,  1,  0,  0,\n",
       "         0,  0,  0,  0,  0,  0],\n",
       "       [ 0,  0,  1,  0,  0,  0,  0,  0,  0,  0,  0, 29,  0,  0,  0,  0,\n",
       "         0,  0,  0,  0,  0,  0],\n",
       "       [ 0,  0,  0,  0,  0,  0,  0,  0,  0,  0,  0,  0, 21,  0,  0,  0,\n",
       "         0,  0,  0,  0,  0,  0],\n",
       "       [ 0,  0,  0,  0,  0,  0,  0,  0,  0,  0,  0,  0,  0, 32,  0,  0,\n",
       "         0,  0,  0,  0,  0,  0],\n",
       "       [ 0,  0,  0,  0,  0,  0,  0,  0,  0,  0,  0,  0,  0,  0, 32,  0,\n",
       "         0,  0,  0,  0,  0,  0],\n",
       "       [ 0,  0,  0,  0,  0,  0,  0,  0,  0,  0,  0,  0,  0,  0,  0, 27,\n",
       "         0,  0,  0,  0,  0,  0],\n",
       "       [ 0,  0,  0,  0,  0,  0,  0,  0,  0,  0,  0,  0,  0,  0,  0,  0,\n",
       "        29,  0,  0,  0,  0,  0],\n",
       "       [ 0,  0,  0,  0,  0,  0,  0,  0,  0,  0,  0,  0,  0,  0,  0,  0,\n",
       "         0, 30,  0,  0,  0,  0],\n",
       "       [ 0,  0,  0,  0,  0,  0,  0,  0,  0,  0,  0,  0,  0,  0,  0,  0,\n",
       "         0,  0, 27,  0,  0,  0],\n",
       "       [ 0,  0,  0,  0,  0,  0,  0,  0,  0,  0,  0,  0,  0,  0,  0,  0,\n",
       "         0,  0,  0, 26,  0,  0],\n",
       "       [ 0,  0,  0,  0,  0,  0,  0,  0,  2,  0,  0,  0,  0,  0,  0,  0,\n",
       "         0,  0,  0,  0, 32,  0],\n",
       "       [ 0,  0,  0,  0,  0,  0,  0,  0,  0,  0,  0,  0,  0,  0,  0,  0,\n",
       "         0,  0,  0,  0,  0, 31]], dtype=int64)"
      ]
     },
     "execution_count": 114,
     "metadata": {},
     "output_type": "execute_result"
    }
   ],
   "source": [
    "cm5 = confusion_matrix(y_test,y_pred)\n",
    "cm5"
   ]
  },
  {
   "cell_type": "code",
   "execution_count": 115,
   "id": "6a061340",
   "metadata": {},
   "outputs": [
    {
     "data": {
      "text/plain": [
       "0.9787878787878788"
      ]
     },
     "execution_count": 115,
     "metadata": {},
     "output_type": "execute_result"
    }
   ],
   "source": [
    "ac5 = accuracy_score(y_test,y_pred)\n",
    "ac5"
   ]
  },
  {
   "cell_type": "markdown",
   "id": "9b3501ee",
   "metadata": {},
   "source": [
    "__precision__"
   ]
  },
  {
   "cell_type": "code",
   "execution_count": 116,
   "id": "85eec4d5",
   "metadata": {},
   "outputs": [
    {
     "data": {
      "text/plain": [
       "0.9787878787878788"
      ]
     },
     "execution_count": 116,
     "metadata": {},
     "output_type": "execute_result"
    }
   ],
   "source": [
    "precision_positive5 = metrics.precision_score(y_test, y_pred, pos_label = \"Positive\", average = \"micro\")\n",
    "precision_positive5\n",
    "\n",
    "precision_negative5 = metrics.precision_score(y_test, y_pred, pos_label = \"negative\", average = \"micro\")\n",
    "precision_negative5"
   ]
  },
  {
   "cell_type": "markdown",
   "id": "000c67c6",
   "metadata": {},
   "source": [
    "__Recall__"
   ]
  },
  {
   "cell_type": "code",
   "execution_count": 117,
   "id": "9deaa898",
   "metadata": {},
   "outputs": [
    {
     "data": {
      "text/plain": [
       "0.9787878787878788"
      ]
     },
     "execution_count": 117,
     "metadata": {},
     "output_type": "execute_result"
    }
   ],
   "source": [
    "recall_sensitivity5 = metrics.recall_score(y_test, y_pred, pos_label = \"positive\", average = \"micro\")\n",
    "recall_sensitivity5\n",
    "\n",
    "recall_specificity5 = metrics.recall_score(y_test, y_pred, pos_label = \"positive\", average = \"micro\")\n",
    "recall_specificity5"
   ]
  },
  {
   "cell_type": "markdown",
   "id": "2302cce7",
   "metadata": {},
   "source": [
    "__F1 Score__"
   ]
  },
  {
   "cell_type": "code",
   "execution_count": 118,
   "id": "52f2421d",
   "metadata": {},
   "outputs": [
    {
     "data": {
      "text/plain": [
       "0.9787878787878788"
      ]
     },
     "execution_count": 118,
     "metadata": {},
     "output_type": "execute_result"
    }
   ],
   "source": [
    "f1_positive5 = metrics.f1_score(y_test, y_pred, pos_label=1, average = \"micro\")\n",
    "f1_positive5\n",
    "\n",
    "f1_negative5 = metrics.f1_score(y_test, y_pred, pos_label=0, average = \"micro\")\n",
    "f1_negative5"
   ]
  },
  {
   "cell_type": "markdown",
   "id": "d4457a2d",
   "metadata": {},
   "source": [
    "__validation__"
   ]
  },
  {
   "cell_type": "code",
   "execution_count": 119,
   "id": "53c3cde1",
   "metadata": {},
   "outputs": [],
   "source": [
    "from sklearn.model_selection import StratifiedKFold \n",
    "from sklearn.model_selection import cross_val_score"
   ]
  },
  {
   "cell_type": "code",
   "execution_count": 120,
   "id": "670ca4ea",
   "metadata": {},
   "outputs": [],
   "source": [
    "skf = StratifiedKFold(n_splits = 10, shuffle = True, random_state = None)"
   ]
  },
  {
   "cell_type": "code",
   "execution_count": 121,
   "id": "4e542aca",
   "metadata": {},
   "outputs": [
    {
     "data": {
      "text/plain": [
       "array([0.92727273, 0.94545455, 0.95454545, 0.97727273, 0.97727273,\n",
       "       0.98181818, 0.95909091, 0.96363636, 0.96363636, 0.93636364])"
      ]
     },
     "execution_count": 121,
     "metadata": {},
     "output_type": "execute_result"
    }
   ],
   "source": [
    "Dt_cvscr = cross_val_score(model1, features, target, cv = skf)\n",
    "Dt_cvscr"
   ]
  },
  {
   "cell_type": "code",
   "execution_count": 122,
   "id": "414746ac",
   "metadata": {},
   "outputs": [
    {
     "data": {
      "text/plain": [
       "0.9586363636363636"
      ]
     },
     "execution_count": 122,
     "metadata": {},
     "output_type": "execute_result"
    }
   ],
   "source": [
    "dtcv = Dt_cvscr.mean()\n",
    "dtcv"
   ]
  },
  {
   "cell_type": "markdown",
   "id": "a11e6256",
   "metadata": {},
   "source": [
    "__Random Forest__"
   ]
  },
  {
   "cell_type": "code",
   "execution_count": 123,
   "id": "1628fe2a",
   "metadata": {},
   "outputs": [],
   "source": [
    "from sklearn.ensemble import RandomForestClassifier"
   ]
  },
  {
   "cell_type": "code",
   "execution_count": 124,
   "id": "613e8703",
   "metadata": {},
   "outputs": [],
   "source": [
    "model6 = RandomForestClassifier(n_estimators = 10, criterion = 'entropy')"
   ]
  },
  {
   "cell_type": "code",
   "execution_count": 125,
   "id": "8416649d",
   "metadata": {},
   "outputs": [
    {
     "data": {
      "text/plain": [
       "RandomForestClassifier(criterion='entropy', n_estimators=10)"
      ]
     },
     "execution_count": 125,
     "metadata": {},
     "output_type": "execute_result"
    }
   ],
   "source": [
    "model6.fit(x_train,y_train)"
   ]
  },
  {
   "cell_type": "code",
   "execution_count": 126,
   "id": "ad82a7a4",
   "metadata": {},
   "outputs": [
    {
     "data": {
      "text/plain": [
       "1.0"
      ]
     },
     "execution_count": 126,
     "metadata": {},
     "output_type": "execute_result"
    }
   ],
   "source": [
    "model6.score(x_train,y_train)"
   ]
  },
  {
   "cell_type": "code",
   "execution_count": 127,
   "id": "0ad58a2b",
   "metadata": {},
   "outputs": [
    {
     "data": {
      "text/plain": [
       "0.9984848484848485"
      ]
     },
     "execution_count": 127,
     "metadata": {},
     "output_type": "execute_result"
    }
   ],
   "source": [
    "model6.score(x_test,y_test)"
   ]
  },
  {
   "cell_type": "code",
   "execution_count": 128,
   "id": "00920935",
   "metadata": {},
   "outputs": [
    {
     "data": {
      "text/plain": [
       "array([ 2,  0, 18,  4, 14,  4, 15, 18, 11, 13, 10, 18, 21,  8, 19, 21,  0,\n",
       "       13,  1,  0,  3, 19,  0, 15,  1, 19, 19,  8,  3, 17, 20, 10,  8, 13,\n",
       "        1,  5,  2, 19,  3, 21, 11, 10, 10,  8,  2,  4, 13, 20, 17,  0, 11,\n",
       "       14, 12,  3,  6, 21,  4, 11, 18,  0,  5,  1,  2, 20, 13,  9,  0, 14,\n",
       "        6,  1,  4,  2,  5, 16,  6, 11, 18,  8, 10, 13, 12, 10, 18,  6,  0,\n",
       "        0,  4,  0, 20, 19,  7,  4, 15,  5,  2, 11, 21, 11, 11,  4,  0,  6,\n",
       "       12,  7,  3, 17,  7,  8, 11, 21, 19, 19, 11,  8,  7,  9,  7, 11, 10,\n",
       "       16, 16, 21,  6,  5, 21,  4, 11, 16, 19,  9,  0, 17, 14,  3, 15,  1,\n",
       "        2,  9, 17,  5,  1,  0, 10,  9,  8, 20,  2, 17, 12, 17, 21,  2, 15,\n",
       "        8,  8, 16, 15, 17,  8, 12,  4, 14, 13,  4, 20,  2, 21, 14,  0,  3,\n",
       "        5,  5,  3, 11,  2,  8, 20,  6, 20,  1, 13,  6, 11,  4, 13,  7, 18,\n",
       "       18, 19,  8, 10, 15, 13,  3, 13, 16,  8,  1,  6, 12, 14, 19, 20,  9,\n",
       "       10,  9,  1, 17,  9, 16,  6, 19, 17, 20,  9, 17,  0,  9, 19, 16,  8,\n",
       "       12,  8,  5, 20,  7, 21,  7, 21, 20,  1, 10,  4, 12, 20, 11, 14,  0,\n",
       "        8, 19, 15, 21,  8, 14, 19, 18, 14, 18,  1,  6,  7, 21,  5, 12, 15,\n",
       "        3,  5, 18, 20,  1, 13, 13, 12, 15, 16, 11, 10,  6,  0,  9, 10, 10,\n",
       "        4,  5, 19,  7,  2,  2, 10, 16, 17, 11,  6,  2, 13,  4,  9,  2,  7,\n",
       "       11, 14, 17, 13,  7, 16,  8, 17,  6, 20,  9,  0,  1,  9, 16, 15, 12,\n",
       "       14, 13,  1,  7, 10,  5,  1, 18, 21, 13, 21,  1, 18,  1, 15, 14,  1,\n",
       "        0,  8,  8, 14, 16, 18,  4, 18, 12,  0, 16, 10,  1, 14, 11, 10, 14,\n",
       "       15,  7,  1, 20, 17,  8, 14,  6, 15,  5,  2,  3, 16, 12, 21,  5,  2,\n",
       "       20, 19,  9,  6,  6, 13,  8,  5, 16, 20,  2, 15,  6,  6, 19, 11, 21,\n",
       "        7, 12, 18, 13,  3, 14,  2,  6,  0,  8, 14, 16, 17,  3,  7, 20,  4,\n",
       "       16, 21, 10,  8, 16, 18, 13, 20, 11, 16, 15, 17,  5,  5, 16,  1, 21,\n",
       "        5,  2, 11,  9,  9,  8, 21,  0, 13,  6, 18, 18, 16, 16,  0,  7,  8,\n",
       "       20, 13,  6,  8,  5, 14,  2,  4, 17,  8,  9, 16, 13,  6,  8, 21,  3,\n",
       "        5,  4, 15, 12, 13, 14,  9, 20,  7, 21, 20, 17,  1, 10,  4, 20, 11,\n",
       "       19,  5,  2,  4, 16, 11,  8,  7,  7, 20,  2,  0,  6, 13,  2,  4,  2,\n",
       "       21,  3, 19, 21, 15, 15,  2, 21, 18, 19, 19,  4, 21,  9,  1, 20,  3,\n",
       "       21,  6, 10,  0,  8, 21, 10, 14,  4,  4, 15, 20, 14,  2, 17, 20,  7,\n",
       "       18,  3,  8, 14, 21,  3,  9,  1, 10, 10, 13,  6,  1, 13, 11, 12, 15,\n",
       "        9, 12,  5, 17,  0, 16,  3, 19,  8,  0,  0, 13, 17, 11, 17,  7,  3,\n",
       "        0,  7, 19,  0,  0, 13, 14, 13, 14,  0, 17, 14,  8, 15,  1, 14,  8,\n",
       "       17,  1,  4, 12,  1,  9,  8,  4, 18,  6, 10, 21,  7,  5,  7, 12, 11,\n",
       "        5,  7,  2,  2,  9,  6,  2,  5,  3, 10,  0,  1,  1, 12,  9, 11, 20,\n",
       "       14, 17, 20, 14,  5, 17, 10, 18,  6, 19,  5,  8,  1,  8, 20, 16,  5,\n",
       "        9, 20,  3, 15, 19,  4, 17, 12, 13, 17, 15, 18, 17,  8,  7,  4, 20,\n",
       "       16,  0,  4,  4, 16, 14,  3, 18, 13, 18, 20,  8,  2,  1, 18, 11,  1,\n",
       "       15,  4, 11,  1, 15,  5, 20,  3, 15,  4,  0,  0,  8, 14],\n",
       "      dtype=int64)"
      ]
     },
     "execution_count": 128,
     "metadata": {},
     "output_type": "execute_result"
    }
   ],
   "source": [
    "y_pred = model6.predict(x_test)\n",
    "y_pred"
   ]
  },
  {
   "cell_type": "code",
   "execution_count": 129,
   "id": "fd14e18d",
   "metadata": {},
   "outputs": [
    {
     "data": {
      "text/plain": [
       "array([[36,  0,  0,  0,  0,  0,  0,  0,  0,  0,  0,  0,  0,  0,  0,  0,\n",
       "         0,  0,  0,  0,  0,  0],\n",
       "       [ 0, 35,  0,  0,  0,  0,  0,  0,  0,  0,  0,  0,  0,  0,  0,  0,\n",
       "         0,  0,  0,  0,  0,  0],\n",
       "       [ 0,  0, 31,  0,  0,  0,  0,  0,  0,  0,  0,  0,  0,  0,  0,  0,\n",
       "         0,  0,  0,  0,  0,  0],\n",
       "       [ 0,  0,  0, 24,  0,  0,  0,  0,  0,  0,  0,  0,  0,  0,  0,  0,\n",
       "         0,  0,  0,  0,  0,  0],\n",
       "       [ 0,  0,  0,  0, 33,  0,  0,  0,  0,  0,  0,  0,  0,  0,  0,  0,\n",
       "         0,  0,  0,  0,  0,  0],\n",
       "       [ 0,  0,  0,  0,  0, 30,  0,  0,  0,  0,  0,  0,  0,  0,  0,  0,\n",
       "         0,  0,  0,  0,  0,  0],\n",
       "       [ 0,  0,  0,  0,  0,  0, 29,  0,  0,  0,  0,  0,  0,  0,  0,  0,\n",
       "         0,  0,  0,  0,  0,  0],\n",
       "       [ 0,  0,  0,  0,  0,  0,  0, 27,  0,  0,  0,  0,  0,  0,  0,  0,\n",
       "         0,  0,  0,  0,  0,  0],\n",
       "       [ 0,  0,  0,  0,  0,  0,  0,  0, 43,  0,  0,  0,  0,  0,  0,  0,\n",
       "         0,  0,  0,  0,  0,  0],\n",
       "       [ 0,  0,  0,  0,  0,  0,  0,  0,  0, 26,  0,  0,  0,  0,  0,  0,\n",
       "         0,  0,  0,  0,  0,  0],\n",
       "       [ 0,  0,  0,  0,  0,  0,  0,  0,  0,  0, 27,  0,  0,  0,  0,  0,\n",
       "         0,  0,  0,  0,  0,  0],\n",
       "       [ 0,  0,  0,  0,  0,  0,  0,  0,  0,  0,  0, 30,  0,  0,  0,  0,\n",
       "         0,  0,  0,  0,  0,  0],\n",
       "       [ 0,  0,  0,  0,  0,  0,  0,  0,  0,  0,  0,  0, 21,  0,  0,  0,\n",
       "         0,  0,  0,  0,  0,  0],\n",
       "       [ 0,  0,  0,  0,  0,  0,  0,  0,  0,  0,  0,  0,  0, 32,  0,  0,\n",
       "         0,  0,  0,  0,  0,  0],\n",
       "       [ 0,  0,  0,  0,  0,  0,  0,  0,  0,  0,  0,  0,  0,  0, 32,  0,\n",
       "         0,  0,  0,  0,  0,  0],\n",
       "       [ 0,  0,  0,  0,  0,  0,  0,  0,  0,  0,  0,  0,  0,  0,  0, 27,\n",
       "         0,  0,  0,  0,  0,  0],\n",
       "       [ 0,  0,  0,  0,  0,  0,  0,  0,  0,  0,  0,  0,  0,  0,  0,  0,\n",
       "        29,  0,  0,  0,  0,  0],\n",
       "       [ 0,  0,  0,  0,  0,  0,  0,  0,  0,  0,  0,  0,  0,  0,  0,  0,\n",
       "         0, 30,  0,  0,  0,  0],\n",
       "       [ 0,  0,  0,  0,  0,  0,  0,  0,  0,  0,  0,  0,  0,  0,  0,  0,\n",
       "         0,  0, 27,  0,  0,  0],\n",
       "       [ 0,  0,  0,  0,  0,  0,  0,  0,  0,  0,  0,  0,  0,  0,  0,  0,\n",
       "         0,  0,  0, 26,  0,  0],\n",
       "       [ 0,  0,  0,  0,  0,  0,  0,  0,  0,  0,  0,  0,  0,  0,  0,  0,\n",
       "         0,  0,  0,  0, 34,  0],\n",
       "       [ 0,  0,  0,  0,  0,  0,  0,  0,  0,  0,  0,  0,  0,  0,  0,  0,\n",
       "         0,  0,  0,  0,  0, 31]], dtype=int64)"
      ]
     },
     "execution_count": 129,
     "metadata": {},
     "output_type": "execute_result"
    }
   ],
   "source": [
    "cm6 = confusion_matrix(y_test,y_test)\n",
    "cm6"
   ]
  },
  {
   "cell_type": "code",
   "execution_count": 130,
   "id": "e8ec7182",
   "metadata": {},
   "outputs": [
    {
     "data": {
      "text/plain": [
       "0.9984848484848485"
      ]
     },
     "execution_count": 130,
     "metadata": {},
     "output_type": "execute_result"
    }
   ],
   "source": [
    "ac6 = accuracy_score(y_test,y_pred)\n",
    "ac6"
   ]
  },
  {
   "cell_type": "markdown",
   "id": "b663b66f",
   "metadata": {},
   "source": [
    "__precision__"
   ]
  },
  {
   "cell_type": "code",
   "execution_count": 131,
   "id": "1fdd502e",
   "metadata": {},
   "outputs": [
    {
     "data": {
      "text/plain": [
       "0.9984848484848485"
      ]
     },
     "execution_count": 131,
     "metadata": {},
     "output_type": "execute_result"
    }
   ],
   "source": [
    "precision_positive6 = metrics.precision_score(y_test, y_pred, pos_label = \"Positive\", average = \"micro\")\n",
    "precision_positive6\n",
    "\n",
    "precision_negative6 = metrics.precision_score(y_test, y_pred, pos_label = \"negative\", average = \"micro\")\n",
    "precision_negative6"
   ]
  },
  {
   "cell_type": "markdown",
   "id": "7abf7590",
   "metadata": {},
   "source": [
    "__Recall__"
   ]
  },
  {
   "cell_type": "code",
   "execution_count": 132,
   "id": "ef444a15",
   "metadata": {},
   "outputs": [
    {
     "data": {
      "text/plain": [
       "0.9984848484848485"
      ]
     },
     "execution_count": 132,
     "metadata": {},
     "output_type": "execute_result"
    }
   ],
   "source": [
    "recall_sensitivity6 = metrics.recall_score(y_test, y_pred, pos_label = \"positive\", average = \"micro\")\n",
    "recall_sensitivity6\n",
    "\n",
    "recall_specificity6 = metrics.recall_score(y_test, y_pred, pos_label = \"positive\", average = \"micro\")\n",
    "recall_specificity6"
   ]
  },
  {
   "cell_type": "markdown",
   "id": "0ad3b0b1",
   "metadata": {},
   "source": [
    "__F1 Score__"
   ]
  },
  {
   "cell_type": "code",
   "execution_count": 133,
   "id": "1ac7db4c",
   "metadata": {},
   "outputs": [
    {
     "data": {
      "text/plain": [
       "0.9984848484848485"
      ]
     },
     "execution_count": 133,
     "metadata": {},
     "output_type": "execute_result"
    }
   ],
   "source": [
    "f1_positive6 = metrics.f1_score(y_test, y_pred, pos_label=1, average = \"micro\")\n",
    "f1_positive6\n",
    "\n",
    "f1_negative6 = metrics.f1_score(y_test, y_pred, pos_label=0, average = \"micro\")\n",
    "f1_negative6"
   ]
  },
  {
   "cell_type": "markdown",
   "id": "71cd6810",
   "metadata": {},
   "source": [
    "__Validation__"
   ]
  },
  {
   "cell_type": "code",
   "execution_count": 134,
   "id": "7088e13f",
   "metadata": {},
   "outputs": [],
   "source": [
    "from sklearn.model_selection import StratifiedKFold \n",
    "from sklearn.model_selection import cross_val_score"
   ]
  },
  {
   "cell_type": "code",
   "execution_count": 135,
   "id": "14e59eba",
   "metadata": {},
   "outputs": [],
   "source": [
    "skf = StratifiedKFold(n_splits = 10, shuffle = True, random_state = None)"
   ]
  },
  {
   "cell_type": "code",
   "execution_count": 136,
   "id": "759e320a",
   "metadata": {},
   "outputs": [
    {
     "data": {
      "text/plain": [
       "array([0.94545455, 0.96363636, 0.94090909, 0.95454545, 0.98181818,\n",
       "       0.94545455, 0.97272727, 0.92727273, 0.97272727, 0.96363636])"
      ]
     },
     "execution_count": 136,
     "metadata": {},
     "output_type": "execute_result"
    }
   ],
   "source": [
    "RF_cvscr = cross_val_score(model1, features, target, cv = skf)\n",
    "RF_cvscr"
   ]
  },
  {
   "cell_type": "code",
   "execution_count": 137,
   "id": "d43fdc20",
   "metadata": {},
   "outputs": [
    {
     "data": {
      "text/plain": [
       "0.9568181818181818"
      ]
     },
     "execution_count": 137,
     "metadata": {},
     "output_type": "execute_result"
    }
   ],
   "source": [
    "rfcv = RF_cvscr.mean()\n",
    "rfcv"
   ]
  },
  {
   "cell_type": "markdown",
   "id": "73a80f8e",
   "metadata": {},
   "source": [
    "__XG BOOST CLASSIFIER__"
   ]
  },
  {
   "cell_type": "code",
   "execution_count": 138,
   "id": "8d9ab810",
   "metadata": {},
   "outputs": [],
   "source": [
    "from xgboost import XGBClassifier"
   ]
  },
  {
   "cell_type": "code",
   "execution_count": 139,
   "id": "f4bdab97",
   "metadata": {},
   "outputs": [],
   "source": [
    "model7 = XGBClassifier()"
   ]
  },
  {
   "cell_type": "code",
   "execution_count": 140,
   "id": "462a8482",
   "metadata": {},
   "outputs": [
    {
     "data": {
      "text/plain": [
       "XGBClassifier(base_score=0.5, booster='gbtree', callbacks=None,\n",
       "              colsample_bylevel=1, colsample_bynode=1, colsample_bytree=1,\n",
       "              early_stopping_rounds=None, enable_categorical=False,\n",
       "              eval_metric=None, gamma=0, gpu_id=-1, grow_policy='depthwise',\n",
       "              importance_type=None, interaction_constraints='',\n",
       "              learning_rate=0.300000012, max_bin=256, max_cat_to_onehot=4,\n",
       "              max_delta_step=0, max_depth=6, max_leaves=0, min_child_weight=1,\n",
       "              missing=nan, monotone_constraints='()', n_estimators=100,\n",
       "              n_jobs=0, num_parallel_tree=1, objective='multi:softprob',\n",
       "              predictor='auto', random_state=0, reg_alpha=0, ...)"
      ]
     },
     "execution_count": 140,
     "metadata": {},
     "output_type": "execute_result"
    }
   ],
   "source": [
    "model7.fit(x_train,y_train)"
   ]
  },
  {
   "cell_type": "code",
   "execution_count": 141,
   "id": "ced9a4f9",
   "metadata": {},
   "outputs": [
    {
     "data": {
      "text/plain": [
       "1.0"
      ]
     },
     "execution_count": 141,
     "metadata": {},
     "output_type": "execute_result"
    }
   ],
   "source": [
    "model7.score(x_train,y_train)"
   ]
  },
  {
   "cell_type": "code",
   "execution_count": 142,
   "id": "663a8d27",
   "metadata": {},
   "outputs": [
    {
     "data": {
      "text/plain": [
       "0.9939393939393939"
      ]
     },
     "execution_count": 142,
     "metadata": {},
     "output_type": "execute_result"
    }
   ],
   "source": [
    "model7.score(x_test,y_test)"
   ]
  },
  {
   "cell_type": "code",
   "execution_count": 143,
   "id": "3001f8e5",
   "metadata": {},
   "outputs": [
    {
     "data": {
      "text/plain": [
       "array([ 2,  0, 18,  4, 14,  4, 15, 18, 11, 13, 10, 18, 21,  8, 19, 21,  0,\n",
       "       13,  1,  0,  3, 19,  0, 15,  1, 19, 19,  8,  3, 17, 20, 10,  8, 13,\n",
       "        1,  5,  2, 19,  3, 21, 11, 10, 10,  8,  2,  4, 13,  8, 17,  0, 11,\n",
       "       14, 12,  3,  6, 21,  4, 11, 18,  0,  5,  1,  2, 20, 13,  9,  0, 14,\n",
       "        6,  1,  4,  2,  5, 16,  6, 11, 18,  8, 10, 13, 12, 10, 18,  6,  0,\n",
       "        0,  4,  0, 20, 19,  7,  4, 15,  5,  2, 11, 21, 11, 11,  4,  0,  6,\n",
       "       12,  7,  3, 17,  7,  8, 11, 21, 19, 19, 11, 20,  7,  9,  7, 11, 10,\n",
       "       16, 16, 21,  6,  5, 21,  4, 11, 16, 19,  9,  0, 17, 14,  3, 15,  1,\n",
       "        2,  9, 17,  5,  1,  0, 10,  9, 20, 20,  2, 17, 12, 17, 21,  2, 15,\n",
       "        8,  8, 16, 15, 17,  8, 12,  4, 14, 13,  4, 20,  2, 21, 14,  0,  3,\n",
       "        5,  5,  3, 11,  2,  8, 20,  6, 20,  1, 13,  6, 11,  4, 13,  7, 18,\n",
       "       18, 19,  8, 10, 15, 13,  3, 13, 16,  8,  1,  6, 12, 14, 19, 20,  9,\n",
       "       10,  9,  1, 17,  9, 16,  6, 19, 17, 20,  9, 17,  0,  9, 19, 16,  8,\n",
       "       12,  8,  5, 20,  7, 21,  7, 21, 20,  1, 10,  4, 12, 20, 11, 14,  0,\n",
       "        8, 19, 15, 21,  8, 14, 19, 18, 14, 18,  1,  6,  7, 21,  5, 12, 15,\n",
       "        3,  5, 18, 20,  1, 13, 13, 12, 15, 16, 11, 10,  6,  0,  9, 10, 10,\n",
       "        4,  5, 19,  7,  2,  2, 10, 16, 17, 11,  6,  2, 13,  4,  9,  2,  7,\n",
       "       11, 14, 17, 13,  7, 16,  8, 17,  6, 20,  9,  0,  1,  9, 16, 15, 12,\n",
       "       14, 13,  1,  7, 10,  5,  1, 18, 21, 13, 21,  1, 18,  1, 15, 14,  1,\n",
       "        0,  8,  8, 14, 16, 18,  4, 18, 12,  0, 16, 10,  1, 14, 11, 10, 14,\n",
       "       15,  7,  1, 20, 17,  8, 14,  6, 15,  5,  2,  3, 16, 12, 21,  5,  2,\n",
       "       20, 19,  9,  6,  6, 13,  8,  5, 16, 20,  2, 15,  6,  6, 19, 11, 21,\n",
       "        7, 12, 18, 13,  3, 14,  2,  6,  0,  8, 14, 16, 17,  3,  7, 20,  4,\n",
       "       16, 21, 10,  8, 16, 18, 13, 20, 11, 16, 15, 17,  5,  5, 16,  1, 21,\n",
       "        5,  2, 11,  9,  9,  8, 21,  0, 13,  6, 18, 18, 16, 16,  0,  7,  8,\n",
       "       20, 13,  6,  8,  5, 14,  2,  4, 17,  8,  9, 16, 13,  6,  8, 21,  3,\n",
       "        5,  4, 15, 12, 13, 14,  9, 20,  7, 21, 20, 17,  1, 10,  4, 20, 11,\n",
       "       19,  5,  2,  4, 16, 11,  8,  7,  7, 20,  2,  0,  6, 13,  2,  4,  2,\n",
       "       21,  3, 19, 21, 15, 15,  2, 21, 18, 19, 19,  4, 21,  9,  1, 20,  3,\n",
       "       21,  6, 10,  0,  8, 21, 10, 14,  4,  4, 15, 20, 14,  2, 17, 20,  7,\n",
       "       18,  3,  8, 14, 21,  3,  9,  1, 10, 10, 13,  6,  1, 13, 11, 12, 15,\n",
       "        9, 12,  5, 17,  0, 16,  3, 19,  8,  0,  0, 13, 17, 11, 17,  7,  3,\n",
       "        0,  7, 19,  0,  0, 13, 14, 13, 14,  0, 17, 14,  8, 15,  1, 14,  8,\n",
       "       17,  1,  4, 12,  1,  9,  8,  4, 18,  6, 10, 21,  7,  5,  7, 12, 11,\n",
       "        5,  7,  2,  2,  9,  6,  2,  5,  3, 10,  0,  1,  1, 12,  9, 11, 20,\n",
       "       14, 17, 20, 14,  5, 17, 10, 18,  6, 19,  5,  8,  1,  8, 20, 16,  5,\n",
       "        9, 20,  3, 15, 19,  4, 17, 12, 13, 17, 15, 18, 17,  8,  7,  4, 20,\n",
       "       16,  0,  4,  4, 16, 14,  3, 18, 13, 18, 20,  8,  2,  1, 18, 11,  1,\n",
       "       15,  4, 11,  1, 15,  5, 20,  3, 15,  4,  0,  0,  8, 14],\n",
       "      dtype=int64)"
      ]
     },
     "execution_count": 143,
     "metadata": {},
     "output_type": "execute_result"
    }
   ],
   "source": [
    "y_pred = model7.predict(x_test)\n",
    "y_pred"
   ]
  },
  {
   "cell_type": "code",
   "execution_count": 144,
   "id": "b75cc35c",
   "metadata": {},
   "outputs": [
    {
     "data": {
      "text/plain": [
       "array([[36,  0,  0,  0,  0,  0,  0,  0,  0,  0,  0,  0,  0,  0,  0,  0,\n",
       "         0,  0,  0,  0,  0,  0],\n",
       "       [ 0, 35,  0,  0,  0,  0,  0,  0,  0,  0,  0,  0,  0,  0,  0,  0,\n",
       "         0,  0,  0,  0,  0,  0],\n",
       "       [ 0,  0, 31,  0,  0,  0,  0,  0,  0,  0,  0,  0,  0,  0,  0,  0,\n",
       "         0,  0,  0,  0,  0,  0],\n",
       "       [ 0,  0,  0, 24,  0,  0,  0,  0,  0,  0,  0,  0,  0,  0,  0,  0,\n",
       "         0,  0,  0,  0,  0,  0],\n",
       "       [ 0,  0,  0,  0, 33,  0,  0,  0,  0,  0,  0,  0,  0,  0,  0,  0,\n",
       "         0,  0,  0,  0,  0,  0],\n",
       "       [ 0,  0,  0,  0,  0, 30,  0,  0,  0,  0,  0,  0,  0,  0,  0,  0,\n",
       "         0,  0,  0,  0,  0,  0],\n",
       "       [ 0,  0,  0,  0,  0,  0, 29,  0,  0,  0,  0,  0,  0,  0,  0,  0,\n",
       "         0,  0,  0,  0,  0,  0],\n",
       "       [ 0,  0,  0,  0,  0,  0,  0, 27,  0,  0,  0,  0,  0,  0,  0,  0,\n",
       "         0,  0,  0,  0,  0,  0],\n",
       "       [ 0,  0,  0,  0,  0,  0,  0,  0, 40,  0,  0,  0,  0,  0,  0,  0,\n",
       "         0,  0,  0,  0,  3,  0],\n",
       "       [ 0,  0,  0,  0,  0,  0,  0,  0,  0, 26,  0,  0,  0,  0,  0,  0,\n",
       "         0,  0,  0,  0,  0,  0],\n",
       "       [ 0,  0,  0,  0,  0,  0,  0,  0,  0,  0, 27,  0,  0,  0,  0,  0,\n",
       "         0,  0,  0,  0,  0,  0],\n",
       "       [ 0,  0,  0,  0,  0,  0,  0,  0,  0,  0,  0, 30,  0,  0,  0,  0,\n",
       "         0,  0,  0,  0,  0,  0],\n",
       "       [ 0,  0,  0,  0,  0,  0,  0,  0,  0,  0,  0,  0, 21,  0,  0,  0,\n",
       "         0,  0,  0,  0,  0,  0],\n",
       "       [ 0,  0,  0,  0,  0,  0,  0,  0,  0,  0,  0,  0,  0, 32,  0,  0,\n",
       "         0,  0,  0,  0,  0,  0],\n",
       "       [ 0,  0,  0,  0,  0,  0,  0,  0,  0,  0,  0,  0,  0,  0, 32,  0,\n",
       "         0,  0,  0,  0,  0,  0],\n",
       "       [ 0,  0,  0,  0,  0,  0,  0,  0,  0,  0,  0,  0,  0,  0,  0, 27,\n",
       "         0,  0,  0,  0,  0,  0],\n",
       "       [ 0,  0,  0,  0,  0,  0,  0,  0,  0,  0,  0,  0,  0,  0,  0,  0,\n",
       "        29,  0,  0,  0,  0,  0],\n",
       "       [ 0,  0,  0,  0,  0,  0,  0,  0,  0,  0,  0,  0,  0,  0,  0,  0,\n",
       "         0, 30,  0,  0,  0,  0],\n",
       "       [ 0,  0,  0,  0,  0,  0,  0,  0,  0,  0,  0,  0,  0,  0,  0,  0,\n",
       "         0,  0, 27,  0,  0,  0],\n",
       "       [ 0,  0,  0,  0,  0,  0,  0,  0,  0,  0,  0,  0,  0,  0,  0,  0,\n",
       "         0,  0,  0, 26,  0,  0],\n",
       "       [ 0,  0,  0,  0,  0,  0,  0,  0,  1,  0,  0,  0,  0,  0,  0,  0,\n",
       "         0,  0,  0,  0, 33,  0],\n",
       "       [ 0,  0,  0,  0,  0,  0,  0,  0,  0,  0,  0,  0,  0,  0,  0,  0,\n",
       "         0,  0,  0,  0,  0, 31]], dtype=int64)"
      ]
     },
     "execution_count": 144,
     "metadata": {},
     "output_type": "execute_result"
    }
   ],
   "source": [
    "cm7 = confusion_matrix(y_test,y_pred)\n",
    "cm7"
   ]
  },
  {
   "cell_type": "code",
   "execution_count": 145,
   "id": "e667a6f6",
   "metadata": {},
   "outputs": [
    {
     "data": {
      "text/plain": [
       "0.9939393939393939"
      ]
     },
     "execution_count": 145,
     "metadata": {},
     "output_type": "execute_result"
    }
   ],
   "source": [
    "ac7 = accuracy_score(y_test,y_pred)\n",
    "ac7"
   ]
  },
  {
   "cell_type": "markdown",
   "id": "a82b0676",
   "metadata": {},
   "source": [
    "__Precision__"
   ]
  },
  {
   "cell_type": "code",
   "execution_count": 146,
   "id": "6c47bb4b",
   "metadata": {},
   "outputs": [
    {
     "data": {
      "text/plain": [
       "0.9939393939393939"
      ]
     },
     "execution_count": 146,
     "metadata": {},
     "output_type": "execute_result"
    }
   ],
   "source": [
    "precision_positive7 = metrics.precision_score(y_test, y_pred, pos_label = \"Positive\", average = \"micro\")\n",
    "precision_positive7\n",
    "\n",
    "precision_negative7 = metrics.precision_score(y_test, y_pred, pos_label = \"negative\", average = \"micro\")\n",
    "precision_negative7"
   ]
  },
  {
   "cell_type": "markdown",
   "id": "3cfc04d6",
   "metadata": {},
   "source": [
    "__Recall__"
   ]
  },
  {
   "cell_type": "code",
   "execution_count": 147,
   "id": "9a2ef709",
   "metadata": {},
   "outputs": [
    {
     "data": {
      "text/plain": [
       "0.9939393939393939"
      ]
     },
     "execution_count": 147,
     "metadata": {},
     "output_type": "execute_result"
    }
   ],
   "source": [
    "recall_sensitivity7 = metrics.recall_score(y_test, y_pred, pos_label = \"positive\", average = \"micro\")\n",
    "recall_sensitivity7\n",
    "\n",
    "recall_specificity7 = metrics.recall_score(y_test, y_pred, pos_label = \"positive\", average = \"micro\")\n",
    "recall_specificity7"
   ]
  },
  {
   "cell_type": "markdown",
   "id": "8ae18f90",
   "metadata": {},
   "source": [
    "__F1 Score__"
   ]
  },
  {
   "cell_type": "code",
   "execution_count": 148,
   "id": "2c272980",
   "metadata": {},
   "outputs": [
    {
     "data": {
      "text/plain": [
       "0.9939393939393939"
      ]
     },
     "execution_count": 148,
     "metadata": {},
     "output_type": "execute_result"
    }
   ],
   "source": [
    "f1_positive7 = metrics.f1_score(y_test, y_pred, pos_label=1, average = \"micro\")\n",
    "f1_positive7\n",
    "\n",
    "f1_negative7 = metrics.f1_score(y_test, y_pred, pos_label=0, average = \"micro\")\n",
    "f1_negative7"
   ]
  },
  {
   "cell_type": "markdown",
   "id": "e07da139",
   "metadata": {},
   "source": [
    "__Validation__"
   ]
  },
  {
   "cell_type": "code",
   "execution_count": 149,
   "id": "08a42c08",
   "metadata": {},
   "outputs": [],
   "source": [
    "from sklearn.model_selection import StratifiedKFold \n",
    "from sklearn.model_selection import cross_val_score"
   ]
  },
  {
   "cell_type": "code",
   "execution_count": 150,
   "id": "cbbc1f0c",
   "metadata": {},
   "outputs": [],
   "source": [
    "skf = StratifiedKFold(n_splits = 10, shuffle = True, random_state = None)"
   ]
  },
  {
   "cell_type": "code",
   "execution_count": 151,
   "id": "b0c1c659",
   "metadata": {},
   "outputs": [
    {
     "data": {
      "text/plain": [
       "array([0.97727273, 0.95      , 0.95454545, 0.96818182, 0.94545455,\n",
       "       0.96363636, 0.94090909, 0.96818182, 0.94545455, 0.96363636])"
      ]
     },
     "execution_count": 151,
     "metadata": {},
     "output_type": "execute_result"
    }
   ],
   "source": [
    "XGB_cvscr = cross_val_score(model1, features, target, cv = skf)\n",
    "XGB_cvscr"
   ]
  },
  {
   "cell_type": "code",
   "execution_count": 152,
   "id": "6d9a3090",
   "metadata": {},
   "outputs": [
    {
     "data": {
      "text/plain": [
       "0.9577272727272726"
      ]
     },
     "execution_count": 152,
     "metadata": {},
     "output_type": "execute_result"
    }
   ],
   "source": [
    "xgbcv = XGB_cvscr.mean()\n",
    "xgbcv"
   ]
  },
  {
   "cell_type": "markdown",
   "id": "4e8b7887",
   "metadata": {},
   "source": [
    "__Accuracy Scores of ML Algorithms DATA__"
   ]
  },
  {
   "cell_type": "code",
   "execution_count": 153,
   "id": "0573d41a",
   "metadata": {
    "scrolled": true
   },
   "outputs": [
    {
     "data": {
      "text/html": [
       "<div>\n",
       "<style scoped>\n",
       "    .dataframe tbody tr th:only-of-type {\n",
       "        vertical-align: middle;\n",
       "    }\n",
       "\n",
       "    .dataframe tbody tr th {\n",
       "        vertical-align: top;\n",
       "    }\n",
       "\n",
       "    .dataframe thead th {\n",
       "        text-align: right;\n",
       "    }\n",
       "</style>\n",
       "<table border=\"1\" class=\"dataframe\">\n",
       "  <thead>\n",
       "    <tr style=\"text-align: right;\">\n",
       "      <th></th>\n",
       "      <th>accuarcy_score</th>\n",
       "      <th>cross_val_score</th>\n",
       "    </tr>\n",
       "  </thead>\n",
       "  <tbody>\n",
       "    <tr>\n",
       "      <th>LR</th>\n",
       "      <td>0.946970</td>\n",
       "      <td>0.960909</td>\n",
       "    </tr>\n",
       "    <tr>\n",
       "      <th>KNN</th>\n",
       "      <td>0.984848</td>\n",
       "      <td>0.958636</td>\n",
       "    </tr>\n",
       "    <tr>\n",
       "      <th>SVM</th>\n",
       "      <td>0.989394</td>\n",
       "      <td>0.961818</td>\n",
       "    </tr>\n",
       "    <tr>\n",
       "      <th>NB</th>\n",
       "      <td>0.995455</td>\n",
       "      <td>0.955909</td>\n",
       "    </tr>\n",
       "    <tr>\n",
       "      <th>DT</th>\n",
       "      <td>0.978788</td>\n",
       "      <td>0.958636</td>\n",
       "    </tr>\n",
       "    <tr>\n",
       "      <th>RF</th>\n",
       "      <td>0.998485</td>\n",
       "      <td>0.956818</td>\n",
       "    </tr>\n",
       "    <tr>\n",
       "      <th>XGB</th>\n",
       "      <td>0.993939</td>\n",
       "      <td>0.957727</td>\n",
       "    </tr>\n",
       "  </tbody>\n",
       "</table>\n",
       "</div>"
      ],
      "text/plain": [
       "     accuarcy_score  cross_val_score\n",
       "LR         0.946970         0.960909\n",
       "KNN        0.984848         0.958636\n",
       "SVM        0.989394         0.961818\n",
       "NB         0.995455         0.955909\n",
       "DT         0.978788         0.958636\n",
       "RF         0.998485         0.956818\n",
       "XGB        0.993939         0.957727"
      ]
     },
     "execution_count": 153,
     "metadata": {},
     "output_type": "execute_result"
    }
   ],
   "source": [
    "data = {\"accuarcy_score\":[ac1,ac2,ac3,ac4,ac5,ac6,ac7],\n",
    "        \"cross_val_score\":[cvsm1,kncv2,svmcv,nbcv,dtcv,rfcv,xgbcv],}\n",
    "scores1 = pd.DataFrame(data,index = [\"LR\",\"KNN\",\"SVM\",\"NB\",\"DT\",\"RF\",\"XGB\"])\n",
    "scores1"
   ]
  },
  {
   "cell_type": "markdown",
   "id": "f304bbb5",
   "metadata": {},
   "source": [
    "__Conclusion__"
   ]
  },
  {
   "cell_type": "markdown",
   "id": "99f29edc",
   "metadata": {},
   "source": [
    "*Based on Accuracy score and Corss validation score i choosed Naive Bayes Algorithm.*"
   ]
  },
  {
   "cell_type": "markdown",
   "id": "ccf58283",
   "metadata": {},
   "source": [
    "__Real Time Pridiction__"
   ]
  },
  {
   "cell_type": "code",
   "execution_count": 154,
   "id": "dc06d51b",
   "metadata": {},
   "outputs": [
    {
     "data": {
      "text/plain": [
       "['regressor.pkl']"
      ]
     },
     "execution_count": 154,
     "metadata": {},
     "output_type": "execute_result"
    }
   ],
   "source": [
    "import joblib\n",
    "joblib.dump(model4,\"regressor.pkl\")"
   ]
  },
  {
   "cell_type": "code",
   "execution_count": 155,
   "id": "92ecda39",
   "metadata": {},
   "outputs": [
    {
     "data": {
      "text/html": [
       "<div>\n",
       "<style scoped>\n",
       "    .dataframe tbody tr th:only-of-type {\n",
       "        vertical-align: middle;\n",
       "    }\n",
       "\n",
       "    .dataframe tbody tr th {\n",
       "        vertical-align: top;\n",
       "    }\n",
       "\n",
       "    .dataframe thead th {\n",
       "        text-align: right;\n",
       "    }\n",
       "</style>\n",
       "<table border=\"1\" class=\"dataframe\">\n",
       "  <thead>\n",
       "    <tr style=\"text-align: right;\">\n",
       "      <th></th>\n",
       "      <th>Nitrogen</th>\n",
       "      <th>Phosphorus</th>\n",
       "      <th>Potassium</th>\n",
       "      <th>Temperature</th>\n",
       "      <th>Humidity</th>\n",
       "      <th>PH</th>\n",
       "      <th>Rainfall</th>\n",
       "    </tr>\n",
       "  </thead>\n",
       "  <tbody>\n",
       "    <tr>\n",
       "      <th>0</th>\n",
       "      <td>90.0</td>\n",
       "      <td>42.0</td>\n",
       "      <td>43.0</td>\n",
       "      <td>20.879744</td>\n",
       "      <td>82.002744</td>\n",
       "      <td>6.502985</td>\n",
       "      <td>202.935536</td>\n",
       "    </tr>\n",
       "  </tbody>\n",
       "</table>\n",
       "</div>"
      ],
      "text/plain": [
       "   Nitrogen  Phosphorus  Potassium  Temperature   Humidity        PH  \\\n",
       "0      90.0        42.0       43.0    20.879744  82.002744  6.502985   \n",
       "\n",
       "     Rainfall  \n",
       "0  202.935536  "
      ]
     },
     "execution_count": 155,
     "metadata": {},
     "output_type": "execute_result"
    }
   ],
   "source": [
    "final = features.head(1)\n",
    "final"
   ]
  },
  {
   "cell_type": "code",
   "execution_count": 156,
   "id": "f814f00b",
   "metadata": {},
   "outputs": [],
   "source": [
    "finaltest = joblib.load(\"regressor.pkl\")"
   ]
  },
  {
   "cell_type": "code",
   "execution_count": 157,
   "id": "e35c7161",
   "metadata": {},
   "outputs": [],
   "source": [
    "result = finaltest.predict(final)"
   ]
  },
  {
   "cell_type": "code",
   "execution_count": 158,
   "id": "20908cd8",
   "metadata": {},
   "outputs": [],
   "source": [
    "l1 = [0,1,2,3,4,5,6,7,8,9,10,11,12,13,14,15,16,17,18,19,20,21]\n",
    "l2 = [\"apple\",\"banana\",\"blackgram\",\"chickpea\",\"coconut\",\"coffee\",\"cotton\",\"grapes\",\"jute\",\"kidneybeans\",\n",
    "      \"lentil\",\"maize\",\"mango\",\"mothbeans\",\"mungbean\",\"muskmelon\",\"orange\",\"papaya\",\"pigeonpeas\",\"pomegranate\",\n",
    "      \"rice\",\"watermelon\"]"
   ]
  },
  {
   "cell_type": "code",
   "execution_count": 159,
   "id": "af6d2271",
   "metadata": {},
   "outputs": [],
   "source": [
    "dic={i:j for i, j in zip(l1,l2)}"
   ]
  },
  {
   "cell_type": "code",
   "execution_count": 160,
   "id": "cde7e890",
   "metadata": {},
   "outputs": [
    {
     "data": {
      "text/plain": [
       "'rice'"
      ]
     },
     "execution_count": 160,
     "metadata": {},
     "output_type": "execute_result"
    }
   ],
   "source": [
    "dic[20]"
   ]
  },
  {
   "cell_type": "code",
   "execution_count": 161,
   "id": "17e371ad",
   "metadata": {},
   "outputs": [
    {
     "name": "stdout",
     "output_type": "stream",
     "text": [
      "rice\n"
     ]
    }
   ],
   "source": [
    "for i in result:\n",
    "    print(dic[i])"
   ]
  },
  {
   "cell_type": "code",
   "execution_count": null,
   "id": "68bdffb7",
   "metadata": {},
   "outputs": [],
   "source": []
  }
 ],
 "metadata": {
  "kernelspec": {
   "display_name": "Python 3 (ipykernel)",
   "language": "python",
   "name": "python3"
  },
  "language_info": {
   "codemirror_mode": {
    "name": "ipython",
    "version": 3
   },
   "file_extension": ".py",
   "mimetype": "text/x-python",
   "name": "python",
   "nbconvert_exporter": "python",
   "pygments_lexer": "ipython3",
   "version": "3.9.12"
  }
 },
 "nbformat": 4,
 "nbformat_minor": 5
}
